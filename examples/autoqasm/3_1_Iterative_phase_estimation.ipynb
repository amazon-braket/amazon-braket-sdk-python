{
 "cells": [
  {
   "cell_type": "markdown",
   "id": "08d77a63",
   "metadata": {},
   "source": [
    "# Iterative phase estimation\n",
    "Quantum phase estimation (QPE) is a central building block for many quantum algorithms, most famously Shor's algorithm for factoring and the HHL algorithm for solving linear systems of equations on a quantum computer. In this notebook, we implement the iterative phase estimation (IPE) algorithm, an implementation of QPE, described in Ref [1] and [2]. \n",
    "\n",
    "In this notebook, two qubits are used, with the 0th qubit being the ancilla qubit and the 1st qubit being the data qubit. The phase oracle in this example uses an ancilla qubit to add a phase $e^{i\\phi}$ to the $|1\\rangle$ component of the state of the data qubit. The oracle is written as a subroutine that will be used by the quantum program. "
   ]
  },
  {
   "cell_type": "code",
   "execution_count": 1,
   "id": "15cdfaee",
   "metadata": {},
   "outputs": [],
   "source": [
    "# general imports\n",
    "import math\n",
    "from collections import Counter\n",
    "import matplotlib.pyplot as plt\n",
    "\n",
    "# AWS imports: Import Braket SDK modules\n",
    "from braket.devices.local_simulator import LocalSimulator\n",
    "import braket.experimental.autoqasm as aq\n",
    "from braket.experimental.autoqasm.instructions import measure, x, rz, h, cphaseshift, reset"
   ]
  },
  {
   "cell_type": "markdown",
   "id": "d471ea9c",
   "metadata": {},
   "source": [
    "The phase in the oracle is defined by `phase` in the subroutine which is assumed to be unknown to the IPE algorithm. In this example, the phase is 3/16, which is 0.0011 in the binary fraction representation."
   ]
  },
  {
   "cell_type": "code",
   "execution_count": 2,
   "id": "b3f0adfe",
   "metadata": {},
   "outputs": [],
   "source": [
    "@aq.subroutine\n",
    "def phase_oracle(ancilla_qubit: int, data_qubit: int) -> None:\n",
    "    \"\"\"Phase oracle that applies phase oracle on q1\n",
    "    conditioned on q0.\n",
    "\n",
    "    Args:\n",
    "        ancilla_qubit (int): qubit that control adding phase to data qubit\n",
    "        data_qubit (int): qubit that the phase is added to\n",
    "    \"\"\"\n",
    "    phase = 2 * math.pi * (3 / 16)\n",
    "    cphaseshift(ancilla_qubit, data_qubit, phase)"
   ]
  },
  {
   "cell_type": "markdown",
   "id": "f76eb5a3",
   "metadata": {},
   "source": [
    "The algorithm starts by preparing the data qubit (i.e., qubit 1) in an eigenstate of the oracle. Because the oracle in this example is the phase shift operation, the eigenstates are computational basis states (i.e., $|0\\rangle$ and $|1\\rangle$), and the oracle only applies non-trivially on $|1\\rangle$ of the data qubit. We choose $|1\\rangle$ to be the starting state of qubit 1. \n",
    "\n",
    "Each iteration estimates a precision digit, in binary fraction representation of the phase, starting from the smallest digit. There are four steps in an iteration:\n",
    "\n",
    "1. Preparing a superposition state, $|0\\rangle+|1\\rangle$, on the ancilla qubit. The algorithm uses the relative phase between $|0\\rangle$ and $|1\\rangle$ for computation.\n",
    "\n",
    "2. Except for the first iteration, apply a phase offset to the ancilla which offsets the phases estimated by previous iterations in order to yield a more accurate estimation for larger digits. This step corresponds to the Z gate in Fig. 1 of Ref [1]. \n",
    "\n",
    "3. Apply the phase oracle on the data and ancilla qubits by a number of times, depending on the iteration. \n",
    "\n",
    "4. Measure ancilla qubit to get the phase estimate. The measurement outcome $c$ in iteration $i$ means that the phase estimate for that iteration is $2\\pi c/2^{i}$."
   ]
  },
  {
   "cell_type": "code",
   "execution_count": 3,
   "id": "732baf1b",
   "metadata": {},
   "outputs": [],
   "source": [
    "n_iterations = 4\n",
    "\n",
    "@aq.main(num_qubits=2)\n",
    "def ipe():\n",
    "    \"\"\"Iterative phase estimation algorithm.\"\"\"\n",
    "    q_ancilla = 0\n",
    "    q_data = 1\n",
    "\n",
    "    c = aq.BitVar(0)\n",
    "    b0 = aq.BitVar(size=n_iterations)\n",
    "\n",
    "    # Prepare an eigenstate of the oracle on the data qubit.\n",
    "    x(q_data)\n",
    "\n",
    "    for iteration in aq.range(n_iterations):\n",
    "        # 1. Prepare superposition on the ancilla qubit\n",
    "        h(q_ancilla)\n",
    "\n",
    "        # 2. Apply phase offset\n",
    "        if iteration > 0:\n",
    "            for i in aq.range(iteration):\n",
    "                k = b0[i]\n",
    "                if k:\n",
    "                    rz(q_ancilla, -2 * math.pi / 2 ** (iteration + 1 - i))\n",
    "\n",
    "        # 3. Apply phase oracle\n",
    "        n_oracle = 2 ** (n_iterations - 1 - iteration)\n",
    "        for j in aq.range(n_oracle):\n",
    "            phase_oracle(q_ancilla, q_data)\n",
    "\n",
    "        # 4. Measure on the ancilla qubit in X basis\n",
    "        h(q_ancilla)\n",
    "        c = measure(q_ancilla)\n",
    "        b0[iteration] = c\n",
    "\n",
    "        reset(q_ancilla)\n",
    "\n",
    "    return b0"
   ]
  },
  {
   "cell_type": "markdown",
   "id": "1184691f",
   "metadata": {},
   "source": [
    "Let's execute the IPE algorithm on the Braket simulator."
   ]
  },
  {
   "cell_type": "code",
   "execution_count": 4,
   "id": "7f44ea40",
   "metadata": {},
   "outputs": [
    {
     "name": "stdout",
     "output_type": "stream",
     "text": [
      "measurement counts:  Counter({'1100': 100})\n"
     ]
    },
    {
     "data": {
      "image/png": "[encoded data removed]",
      "text/plain": [
       "<Figure size 640x480 with 1 Axes>"
      ]
     },
     "metadata": {},
     "output_type": "display_data"
    }
   ],
   "source": [
    "device = LocalSimulator()\n",
    "result = device.run(ipe, shots=100).result()\n",
    "counts = Counter(result.measurements[\"b0\"])\n",
    "print(\"measurement counts: \", counts)\n",
    "\n",
    "plt.bar(counts.keys(), counts.values())\n",
    "plt.xlabel(\"bitstrings\")\n",
    "plt.ylabel(\"counts\")\n",
    "plt.show()"
   ]
  },
  {
   "cell_type": "markdown",
   "id": "2b4ff1a9",
   "metadata": {},
   "source": [
    "The measurement results of the IPE algorithm are \"1100\" in all shots, which is equivalent to 0.0011 in binary fraction or 3/16. We have correctly estimated the phase in the oracle! "
   ]
  },
  {
   "cell_type": "markdown",
   "id": "63c39db4",
   "metadata": {},
   "source": [
    "## Summary\n",
    "In this notebook, we walked you through all stages of executing the IPE algorithm, from constructing a subroutine for the phase oracle, composing the dynamic circuit in the main IPE program, running the quantum program on the Braket simulator to visualizing the results. AutoQASM not only provides expressibility of classical control flow which enables a broader class of quantum programs, it also integrates with Amazon Braket which provides an end-to-end experience for a quantum algorithm."
   ]
  },
  {
   "cell_type": "markdown",
   "id": "26c3bf88",
   "metadata": {},
   "source": [
    "\n",
    "### References:\n",
    "\n",
    "[1] K. M. Svore et al., *Faster Phase Estimation* (2013). arXiv: https://arxiv.org/abs/1304.0741\n",
    "\n",
    "[2] A. D. Corcoles et al., *Exploiting dynamic quantum circuits in a quantum algorithm with superconducting qubits* (2021). arXiv: https://arxiv.org/abs/2102.01682"
   ]
  }
 ],
 "metadata": {
  "kernelspec": {
   "display_name": "Python 3 (ipykernel)",
   "language": "python",
   "name": "python3"
  },
  "language_info": {
   "codemirror_mode": {
    "name": "ipython",
    "version": 3
   },
   "file_extension": ".py",
   "mimetype": "text/x-python",
   "name": "python",
   "nbconvert_exporter": "python",
   "pygments_lexer": "ipython3",
   "version": "3.11.4"
  }
 },
 "nbformat": 4,
 "nbformat_minor": 5
}
