{
 "cells": [
  {
   "cell_type": "markdown",
   "id": "135014b8",
   "metadata": {},
   "source": [
    "# Getting started with AutoQASM\n",
    "In this notebook, we demonstrate how to write and execute a quantum program with AutoQASM, using Bell state preparation as an example."
   ]
  },
  {
   "cell_type": "code",
   "execution_count": 1,
   "id": "15cdfaee",
   "metadata": {},
   "outputs": [],
   "source": [
    "# general imports\n",
    "from collections import Counter\n",
    "import matplotlib.pyplot as plt\n",
    "\n",
    "# AWS imports: Import Braket SDK modules\n",
    "from braket.devices.local_simulator import LocalSimulator\n",
    "import braket.experimental.autoqasm as aq\n",
    "from braket.experimental.autoqasm.instructions import measure, h, cnot"
   ]
  },
  {
   "cell_type": "markdown",
   "id": "d2d7004f",
   "metadata": {},
   "source": [
    "## Build and run a Bell state program\n",
    "As a hello-world example, we create a Bell state and execute it on the Braket local simulator. The quantum program is defined in the `bell_state` function. The `@aq.main` decorator marks the `bell_state` function as a quantum program and enables AutoQASM syntax in the function scope."
   ]
  },
  {
   "cell_type": "code",
   "execution_count": 2,
   "id": "2fa589ad",
   "metadata": {},
   "outputs": [],
   "source": [
    "@aq.main\n",
    "def bell_state():\n",
    "    h(0)\n",
    "    cnot(0, 1)\n",
    "    return measure([0, 1])\n"
   ]
  },
  {
   "cell_type": "markdown",
   "id": "2c59985b",
   "metadata": {},
   "source": [
    "The quantum program is defined by the decorated `bell_state` function. You can view the generated OpenQASM script with the `to_ir()` method. This can help you debug if you are already familiar with OpenQASM."
   ]
  },
  {
   "cell_type": "code",
   "execution_count": 3,
   "id": "19467aa5",
   "metadata": {},
   "outputs": [
    {
     "name": "stdout",
     "output_type": "stream",
     "text": [
      "OPENQASM 3.0;\n",
      "output bit[2] return_value;\n",
      "qubit[2] __qubits__;\n",
      "h __qubits__[0];\n",
      "cnot __qubits__[0], __qubits__[1];\n",
      "bit[2] __bit_0__ = \"00\";\n",
      "__bit_0__[0] = measure __qubits__[0];\n",
      "__bit_0__[1] = measure __qubits__[1];\n",
      "return_value = __bit_0__;\n"
     ]
    }
   ],
   "source": [
    "print(bell_state.build().to_ir())"
   ]
  },
  {
   "cell_type": "markdown",
   "id": "756d0587",
   "metadata": {},
   "source": [
    "Here we submit the quantum program to the local simulator and obtain the results."
   ]
  },
  {
   "cell_type": "code",
   "execution_count": 4,
   "id": "57bf2546",
   "metadata": {},
   "outputs": [
    {
     "name": "stdout",
     "output_type": "stream",
     "text": [
      "measurement counts:  Counter({'11': 50, '00': 50})\n"
     ]
    }
   ],
   "source": [
    "device = LocalSimulator()\n",
    "result = device.run(bell_state, shots=100).result()\n",
    "counts = Counter(result.measurements[\"return_value\"])\n",
    "print(\"measurement counts: \", counts)"
   ]
  },
  {
   "cell_type": "code",
   "execution_count": 5,
   "id": "7fc6f4a6",
   "metadata": {},
   "outputs": [
    {
     "data": {
      "image/png": "[encoded data removed]",
      "text/plain": [
       "<Figure size 640x480 with 1 Axes>"
      ]
     },
     "metadata": {},
     "output_type": "display_data"
    }
   ],
   "source": [
    "plt.bar(counts.keys(), counts.values())\n",
    "\n",
    "plt.xlabel(\"bitstrings\")\n",
    "plt.ylabel(\"counts\")\n",
    "plt.show()"
   ]
  },
  {
   "cell_type": "markdown",
   "id": "658c21ce",
   "metadata": {},
   "source": [
    "The output shows roughly equal measurement counts of the \"00\" and \"11\" bitstrings, a feature of the Bell state.\n",
    "\n",
    "In this notebook, you learn how to use AutoQASM to compose a basic quantum program. To learn more about composing more complex quantum programs with control flow and subroutines, continue to the next AutoQASM example notebook!"
   ]
  }
 ],
 "metadata": {
  "kernelspec": {
   "display_name": "Python 3 (ipykernel)",
   "language": "python",
   "name": "python3"
  },
  "language_info": {
   "codemirror_mode": {
    "name": "ipython",
    "version": 3
   },
   "file_extension": ".py",
   "mimetype": "text/x-python",
   "name": "python",
   "nbconvert_exporter": "python",
   "pygments_lexer": "ipython3",
   "version": "3.11.4"
  }
 },
 "nbformat": 4,
 "nbformat_minor": 5
}
