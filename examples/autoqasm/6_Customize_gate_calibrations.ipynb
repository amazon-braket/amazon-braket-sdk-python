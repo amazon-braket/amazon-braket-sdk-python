{
 "cells": [
  {
   "cell_type": "markdown",
   "id": "dda432a3",
   "metadata": {},
   "source": [
    "# Customize gate calibrations\n",
    "\n",
    "Quantum hardware researches frequently require knowledge of native gate implementations on a specific devices, in the form of pulse sequences. The pulse implementation of gates is called \"gate calibrations\". In Amazon Braket, you have access to native gate calibrations provided by quantum hardware providers. Gaining access to gate calibrations empowers researchers to experiment with quantum gate designs and execute quantum programs with customized, improved gate calibrations."
   ]
  },
  {
   "cell_type": "code",
   "execution_count": 20,
   "id": "30fd0b59",
   "metadata": {},
   "outputs": [],
   "source": [
    "import numpy as np\n",
    "\n",
    "import braket.experimental.autoqasm as aq\n",
    "from braket.experimental.autoqasm import pulse\n",
    "from braket.experimental.autoqasm.instructions import x, h, y, z, rx, rz, cz, measure\n",
    "\n",
    "from braket.aws import AwsDevice\n",
    "from braket.devices import Devices\n",
    "from braket.circuits import Gate, QubitSet, FreeParameter\n",
    "from braket.pulse import DragGaussianWaveform\n",
    "\n",
    "\n",
    "# Rigetti Aspen-M-3 device is the targeted device for this example notebook\n",
    "device = AwsDevice(Devices.Rigetti.AspenM3)"
   ]
  },
  {
   "cell_type": "markdown",
   "id": "f9fdfd5e",
   "metadata": {},
   "source": [
    "## Gate calibrations from hardware providers"
   ]
  },
  {
   "cell_type": "markdown",
   "id": "05c502a9",
   "metadata": {},
   "source": [
    "Let's start by viewing the native gate calibrations supplied by hardware providers. "
   ]
  },
  {
   "cell_type": "code",
   "execution_count": 9,
   "id": "621e631d",
   "metadata": {},
   "outputs": [],
   "source": [
    "provider_calibrations = device.gate_calibrations"
   ]
  },
  {
   "cell_type": "markdown",
   "id": "959c5fe8",
   "metadata": {},
   "source": [
    "Even of the same gate, different physical qubits and angles often have a different pulse implementation. So, each gate calibration is associated with certain physical qubits and angles. In the code snippet below, we retrieve the gate calibration of Rx gate for physical qubit `$0` and `angle=pi/2`."
   ]
  },
  {
   "cell_type": "code",
   "execution_count": 10,
   "id": "3248ed04",
   "metadata": {},
   "outputs": [
    {
     "name": "stdout",
     "output_type": "stream",
     "text": [
      "OPENQASM 3.0;\n",
      "cal {\n",
      "    waveform wf_drag_gaussian_1 = drag_gaussian(24.0ns, 2.547965400864ns, 2.438480469475024e-10, 0.294131242904595, false);\n",
      "    barrier $0;\n",
      "    shift_frequency(q0_rf_frame, -321047.14178613486);\n",
      "    play(q0_rf_frame, wf_drag_gaussian_1);\n",
      "    shift_frequency(q0_rf_frame, 321047.14178613486);\n",
      "    barrier $0;\n",
      "}\n"
     ]
    }
   ],
   "source": [
    "pulse_sequence_rx_pi_2_q0 = provider_calibrations.pulse_sequences[(Gate.Rx(np.pi / 2), QubitSet(0))]\n",
    "\n",
    "print(pulse_sequence_rx_pi_2_q0.to_ir())"
   ]
  },
  {
   "cell_type": "markdown",
   "id": "e5579f6e",
   "metadata": {},
   "source": [
    "Some gate calibrations are defined not with fixed value of angles, but rather with a variable. In this case, these gate calibrations can be retrieved with angles of `FreeParameter` type. For example, the code snippet below retrieves the gate calibration of XY gate on qubit pair `$0` and `$1`, and a variable angle `theta`."
   ]
  },
  {
   "cell_type": "code",
   "execution_count": 18,
   "id": "81bb487f",
   "metadata": {},
   "outputs": [
    {
     "name": "stdout",
     "output_type": "stream",
     "text": [
      "OPENQASM 3.0;\n",
      "cal {\n",
      "    waveform q0_q1_xy_sqrtiSWAP = {0.0, 0.0, 0.0, 0.0, 0.0, 0.0, 0.0, 0.0, 0.00017027814510117418 + 3.545814161029584e-05im, 0.0001637531384142647 - 0.0006963417291257475im, -0.0024236384535354085 - 0.0006359978840345775im, -0.0020880266459824227 + 0.0071991833817111215im, 0.0183154639363212 + 0.0058256555691840435im, 0.01389647133058614 - 0.0400970302233641im, -0.07601004972687501 - 0.028547907918616208im, -0.05096895434492601 + 0.12580109168386006im, 0.18377215049282655 + 0.08000540771043592im, 0.11203349617531491 - 0.24029683804396326im, -0.2861666410762052 - 0.1424698085519111im, -0.1679238652056395 + 0.31665740387208713im, 0.3324698576367831 + 0.18739403644354738im, 0.20188025689491965 - 0.33761393282493973im, -0.3365382754087318 - 0.21314702103059255im, -0.22270886691920647 + 0.3324455449040143im, 0.3270632885726885 + 0.2314788638652746im, 0.23987767413261177 - 0.32112639461245646im, -0.3148886746278293 - 0.2480571398104766im, -0.25605893770993265 + 0.30842396806683037im, 0.3017525517792782 + 0.2638893278426622im, 0.2715454834462717 - 0.2948818655349912im, -0.28781691531972564 - 0.27902275282219197im, -0.286316266203027 + 0.28056241708000285im, 0.2731231551909487 + 0.29342122679322047im, 0.30033295626898754 - 0.2655040293803051im, -0.2577100572339128 - 0.3070469029955639im, -0.3135586455407428 + 0.2497463714357809im, 0.24161821643098105 + 0.3198638956296823im, 0.32595850097191204 - 0.23333094497479048im, -0.22489001460780947 - 0.33183844799598483im, -0.33749986449260017 + 0.21630098406193438im, 0.20756950959968345 + 0.34293902216462857im, 0.3481523390823609 - 0.19870134128929648im, -0.1897023192180489 - 0.3531363820423749im, -0.35788786882845036 + 0.18057836964629678im, 0.17133550110477333 + 0.3624036703730536im, 0.36668081281797327 - 0.16197980043769386im, -0.1525174287942926 - 0.37071647947274017im, -0.37450801266953376 + 0.14295461757145544im, 0.13329766431001788 + 0.3780529155133954im, 0.3813488535265341 - 0.12355292854757727im, -0.11372682763048422 - 0.3843936561856749im, -0.3871853183514709 + 0.10382583248765614im, 0.09385646336926674 + 0.3897220015889509im, 0.39200203537823564 - 0.08382528555278071im, -0.07373890501951168 - 0.3940239182146283im, -0.3957863185974429 + 0.06360396410419812im, 0.05342713712081654 + 0.3972880759068388im, 0.3985282011681576 - 0.04321512596715629im, -0.03297465571140883 - 0.39950587770319324im, -0.4002204616680222 + 0.022712470163323374im, 0.012435327433167463 + 0.4006714824769971im, 0.40085864311265085 - 0.0021499954811794023im, 0.008136752339431992 - 0.40078182032129583im, -0.40044106469419166 - 0.0184181417430448im, -0.02868740197279545 + 0.39983660063422904im, 0.39896882620815033 + 0.03893777025942064im, 0.04916249627487312 - 0.3978383128844025im, -0.3964458051568056 - 0.05935484657765365im, -0.06950810904716966 + 0.39479222005426035im, 0.39287864653685556 + 0.07961559730387789im, 0.0896706551126502 - 0.3907063447787261im, -0.3882767453381822 - 0.09966666076614164im, -0.10959703144551036 + 0.3855914482156166im, 0.38265222179983466 + 0.11945522755549393im, 0.12923475703102658 - 0.3794610017034902im, -0.37601988948839776 - 0.13892917961255596im, -0.14853211108724307 + 0.3723311512815596im, 0.3683972162828193 + 0.15803722749325363im, 0.16743826928437075 - 0.3642206751651247im, -0.35980427836845563 - 0.17672904545218254im, -0.18590343760316458 + 0.3551509342885233im, 0.3502637073614882 + 0.1949554039878608im, 0.2038789834797125 - 0.34514581604584604im, -0.33980063070275657 - 0.21266829950055172im, -0.22131756388828625 + 0.334231671373094im, 0.32844260540973946 + 0.2298210806733758im, 0.23817324937737172 - 0.322437244464191im, -0.31621953596962044 - 0.24636856388878825im, -0.25440157363414634 + 0.3097935105631298im, 0.3031629362091899 + 0.26226657768051775im, 0.2699557734642881 - 0.2963293815893444im, -0.28928334681256634 - 0.2774501849359395im, -0.2846838052583661 + 0.28197161235123785im, 0.2742027760003744 + 0.29143115373043477im, 0.29703625929900734 - 0.26544137592122335im, -0.2545034504217247 - 0.29994466070413445im, -0.29724536413228575 + 0.23936984904848227im, 0.21757055542769113 + 0.2848392342067677im, 0.2589345565262642 - 0.1874616980884428im, -0.14991645959452302 - 0.21867585550726582im, -0.16816745093201246 + 0.10905400958561935im, 0.07090556142073211 + 0.11574173981531792im, 0.07030068156155729 - 0.04062419079799972im, -0.02028272687861378 - 0.037275927064832806im, -0.01711242427516849 + 0.008749823851945im, 0.003240148839174281 + 0.0067594032382922im, 0.0022865609036269953 - 0.0010247711432102616im, -0.00027570938946322465 - 0.0006600691074608816im, 0.0, 0.0, 0.0, 0.0, 0.0, 0.0, 0.0, 0.0};\n",
      "    barrier;\n",
      "    shift_phase(q0_q1_xy_frame, -1.7952028250673373);\n",
      "    play(q0_q1_xy_frame, q0_q1_xy_sqrtiSWAP);\n",
      "    shift_phase(q0_q1_xy_frame, 1.7952028250673373);\n",
      "    shift_phase(q0_q1_xy_frame, -0.5*theta - 1.2521508130125);\n",
      "    play(q0_q1_xy_frame, q0_q1_xy_sqrtiSWAP);\n",
      "    shift_phase(q0_q1_xy_frame, 0.5*theta + 1.2521508130125);\n",
      "    delay[232.0ns] q0_rf_frame;\n",
      "    shift_phase(q0_rf_frame, 2.045063006173045);\n",
      "    delay[232.0ns] q1_rf_frame;\n",
      "    shift_phase(q1_rf_frame, 6.2060958165244315);\n",
      "    shift_phase(q1_rf_frame, 0.5*theta);\n",
      "    shift_phase(q0_rf_frame, -0.5*theta);\n",
      "    barrier;\n",
      "    shift_phase(q0_q1_xy_frame, 1.0225315030865225);\n",
      "    shift_phase(q0_q103_xy_frame, 1.0225315030865225);\n",
      "    shift_phase(q0_q1_xy_frame, -3.1030479082622158);\n",
      "    shift_phase(q1_q2_xy_frame, -3.1030479082622158);\n",
      "    shift_phase(q1_q16_xy_frame, -3.1030479082622158);\n",
      "    shift_phase(q0_q1_xy_frame, -0.25*theta);\n",
      "    shift_phase(q1_q2_xy_frame, -0.25*theta);\n",
      "    shift_phase(q1_q16_xy_frame, -0.25*theta);\n",
      "    shift_phase(q0_q1_xy_frame, -0.25*theta);\n",
      "    shift_phase(q0_q103_xy_frame, -0.25*theta);\n",
      "}\n"
     ]
    }
   ],
   "source": [
    "theta = FreeParameter(\"theta\")\n",
    "pulse_sequence_xy_theta_q0_q1 = provider_calibrations.pulse_sequences[(Gate.XY(theta), QubitSet([0,1]))]\n",
    "\n",
    "print(pulse_sequence_xy_theta_q0_q1.to_ir())"
   ]
  },
  {
   "cell_type": "markdown",
   "id": "9d4d9641",
   "metadata": {},
   "source": [
    "## Compose custom gate calibrations with AutoQASM\n",
    "To customize a gate calibration, you need to \n",
    "1. Find the definition of the gate.\n",
    "2. Decide the qubits and angles you want to define the calibration.\n",
    "3. Compose a pulse program that defines the calibration.\n",
    "\n",
    "As an example, let's define the gate calibration of `rx` on qubit `$1` and at angle `pi/2`. We first inspect the definition of the `rx` gate, which takes qubit parameter `target` and angle parameter `angle`. A gate calibration for the `rx` gate must fully specify the inputs of the gate, `target` and `angle`."
   ]
  },
  {
   "cell_type": "code",
   "execution_count": 28,
   "id": "63e15583",
   "metadata": {},
   "outputs": [
    {
     "name": "stdout",
     "output_type": "stream",
     "text": [
      "Help on function rx in module braket.experimental.autoqasm.instructions.gates:\n",
      "\n",
      "rx(target: Union[int, oqpy.classical_types._ClassicalVar, oqpy.base.OQPyExpression, str, oqpy.quantum_types.Qubit], angle: float) -> None\n",
      "    X-axis rotation gate.\n",
      "    \n",
      "    Args:\n",
      "        target (QubitIdentifierType): Target qubit.\n",
      "        angle (float): Rotation angle in radians.\n",
      "\n"
     ]
    }
   ],
   "source": [
    "help(rx)"
   ]
  },
  {
   "cell_type": "markdown",
   "id": "a1189626",
   "metadata": {},
   "source": [
    "The pulse operations of the gate calibration is composed in the body of a function decorated by `@aq.gate_calibration`. To specify fixed values for the parameters `target` and `angle`, we set the values through keyword arguments of the decorator."
   ]
  },
  {
   "cell_type": "code",
   "execution_count": 43,
   "id": "64ebd3a2",
   "metadata": {},
   "outputs": [],
   "source": [
    "wf = DragGaussianWaveform(\n",
    "    24e-9, 2.547965400864e-9, 2.370235498840002e-10, 0.293350447987059, False, \"wf_drag_gaussian_1\"\n",
    ")\n",
    "q0_rf_frame = device.frames['q0_rf_frame']\n",
    "\n",
    "@aq.gate_calibration(implements=rx, target=\"$0\", angle=np.pi/2)\n",
    "def my_defcal():\n",
    "    pulse.barrier(\"$0\")\n",
    "    pulse.shift_frequency(q0_rf_frame, -321047.14178613486)\n",
    "    pulse.play(q0_rf_frame, wf)\n",
    "    pulse.shift_frequency(q0_rf_frame, 321047.14178613486)\n",
    "    pulse.barrier(\"$0\")"
   ]
  },
  {
   "cell_type": "markdown",
   "id": "9300f0f8",
   "metadata": {},
   "source": [
    "After the gate calibration is defined, it is ready to be attach to a quantum program. Say, we want to attach `my_defcal` to the main quantum program `my_program`."
   ]
  },
  {
   "cell_type": "code",
   "execution_count": 53,
   "id": "bae7731a",
   "metadata": {},
   "outputs": [
    {
     "name": "stdout",
     "output_type": "stream",
     "text": [
      "OPENQASM 3.0;\n",
      "rx(pi / 2) $0;\n",
      "rz(0.123) $1;\n",
      "bit __bit_0__;\n",
      "__bit_0__ = measure $0;\n"
     ]
    }
   ],
   "source": [
    "@aq.main\n",
    "def my_program():\n",
    "    rx(\"$0\", np.pi/2)\n",
    "    rz(\"$1\", 0.123)\n",
    "    measure(\"$0\")\n",
    "\n",
    "main_program = my_program()\n",
    "print(main_program.to_ir())"
   ]
  },
  {
   "cell_type": "markdown",
   "id": "c7579516",
   "metadata": {},
   "source": [
    "We can use the `with_calibrations` method of the program which creates a new program with `my_defcal` attached, leaving the original intact. You can experiment with different gate calibrations on the same program without needing to redefine the main program every time."
   ]
  },
  {
   "cell_type": "code",
   "execution_count": 54,
   "id": "6b7cc158",
   "metadata": {},
   "outputs": [
    {
     "name": "stdout",
     "output_type": "stream",
     "text": [
      "OPENQASM 3.0;\n",
      "extern drag_gaussian(duration, duration, float[64], float[64], bool) -> waveform;\n",
      "waveform wf_drag_gaussian_1 = drag_gaussian(24.0ns, 2.547965400864ns, 2.370235498840002e-10, 0.293350447987059, false);\n",
      "defcal rx(pi / 2) $0 {\n",
      "    barrier $0;\n",
      "    shift_frequency(q0_rf_frame, -321047.14178613486);\n",
      "    play(q0_rf_frame, wf_drag_gaussian_1);\n",
      "    shift_frequency(q0_rf_frame, 321047.14178613486);\n",
      "    barrier $0;\n",
      "}\n",
      "rx(pi / 2) $0;\n",
      "rz(0.123) $1;\n",
      "bit __bit_0__;\n",
      "__bit_0__ = measure $0;\n"
     ]
    }
   ],
   "source": [
    "custom_program = main_program.with_calibrations(my_defcal)\n",
    "print(custom_program.to_ir())"
   ]
  },
  {
   "cell_type": "markdown",
   "id": "f038b8c8",
   "metadata": {},
   "source": [
    "You can also define a gate calibration with variable parameters. For variable parameters, instead of setting it in the decorator, you set it as a arguments of the decorated function. The parameters must have type hint. The type hint for qubits is `aq.Qubit`, and the type hint for angles is `float`. Let's define another gate calibration. This time, we define for `rz` gate on qubit `$1` and a variable angle `angle`."
   ]
  },
  {
   "cell_type": "code",
   "execution_count": 55,
   "id": "49d9155b",
   "metadata": {},
   "outputs": [],
   "source": [
    "@aq.gate_calibration(implements=rz, target=\"$1\")\n",
    "def my_defcal_2(angle: float):\n",
    "    pulse.barrier(\"$1\")\n",
    "    pulse.shift_frequency(q0_rf_frame, -321047.14178613486)\n",
    "    pulse.play(q0_rf_frame, wf)\n",
    "    pulse.shift_frequency(q0_rf_frame, 321047.14178613486)\n",
    "    pulse.delay(q0_rf_frame, angle*1e-8)\n",
    "    pulse.barrier(\"$1\")"
   ]
  },
  {
   "cell_type": "markdown",
   "id": "6690a735",
   "metadata": {},
   "source": [
    "We then attach this gate calibration, `my_defcal_2`, to the main program we composed previously, together with the other gate calibration, `my_defcal`."
   ]
  },
  {
   "cell_type": "code",
   "execution_count": 57,
   "id": "a40c95c7",
   "metadata": {},
   "outputs": [
    {
     "name": "stdout",
     "output_type": "stream",
     "text": [
      "OPENQASM 3.0;\n",
      "extern drag_gaussian(duration, duration, float[64], float[64], bool) -> waveform;\n",
      "waveform wf_drag_gaussian_1 = drag_gaussian(24.0ns, 2.547965400864ns, 2.370235498840002e-10, 0.293350447987059, false);\n",
      "defcal rx(pi / 2) $0 {\n",
      "    barrier $0;\n",
      "    shift_frequency(q0_rf_frame, -321047.14178613486);\n",
      "    play(q0_rf_frame, wf_drag_gaussian_1);\n",
      "    shift_frequency(q0_rf_frame, 321047.14178613486);\n",
      "    barrier $0;\n",
      "}\n",
      "defcal rz(angle[32] angle) $1 {\n",
      "    barrier $1;\n",
      "    shift_frequency(q0_rf_frame, -321047.14178613486);\n",
      "    play(q0_rf_frame, wf_drag_gaussian_1);\n",
      "    shift_frequency(q0_rf_frame, 321047.14178613486);\n",
      "    delay[angle * 1e-08 * 1s] q0_rf_frame;\n",
      "    barrier $1;\n",
      "}\n",
      "rx(pi / 2) $0;\n",
      "rz(0.123) $1;\n",
      "bit __bit_0__;\n",
      "__bit_0__ = measure $0;\n"
     ]
    }
   ],
   "source": [
    "custom_program = main_program.with_calibrations([my_defcal, my_defcal_2])\n",
    "print(custom_program.to_ir())"
   ]
  },
  {
   "cell_type": "markdown",
   "id": "7cbc7366",
   "metadata": {},
   "source": [
    "## Summary\n",
    "This example notebook shows you how to retrieve and view the gate calibrations supplied by hardware providers. With AutoQASM, you can customize gate calibrations to explore different pulse implementation of gates. You can define gate calibrations against fixed values of gate parameters, as well as using parametric definition. Multiple gate calibration can be attached to a program to create a new program. This makes it easy to experiment with different gate calibrations on a same program."
   ]
  }
 ],
 "metadata": {
  "kernelspec": {
   "display_name": "Python 3 (ipykernel)",
   "language": "python",
   "name": "python3"
  },
  "language_info": {
   "codemirror_mode": {
    "name": "ipython",
    "version": 3
   },
   "file_extension": ".py",
   "mimetype": "text/x-python",
   "name": "python",
   "nbconvert_exporter": "python",
   "pygments_lexer": "ipython3",
   "version": "3.10.9"
  }
 },
 "nbformat": 4,
 "nbformat_minor": 5
}
