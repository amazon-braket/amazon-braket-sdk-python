{
 "cells": [
  {
   "cell_type": "markdown",
   "id": "6a4927a4-e1ed-4aea-9734-1993f5e741cd",
   "metadata": {},
   "source": [
    "# Magic state distillation and gate teleportation\n",
    "In fault tolerant quantum computing, Clifford gates have many desirable properties in stabilizer codes. For example, they can be implemented transversally and their noise is contained locally [1]. Therefore, there is a strong preference to include Clifford gates in a logical gateset. However, Clifford gates alone do not form a universal gateset. At least one non-Clifford gate is needed to perform universal quantum computing. Magic states are certain quantum states that enable universal fault-tolerant quantum computing with Clifford gates and preserve the desirable properties of the Clifford gates. With magic states, we can effectively apply non-Clifford gates using only Clifford gates, forming a universal gateset. \n",
    "\n",
    "In this notebook, we first demonstrate how to implement a non-Clifford gate with only Clifford gates and magic states. This procedure is known as \\\"gate teleportation\\\". Because the preparation of the magic state in this first demonstration is not fault-tolerant (i.e., it is not prepared with an error correction code), it is subject to noise.\n",
    "    \n",
    "In the second demonstration, we introduce a procedure to create logical magic states based on the 5-qubit error correction code [2], called magic state distillation [1]. This procedure is based on post-selection, so the preparation of magic states has a finite probability of failing under this protocol.\n",
    "    \n",
    "Finally, we introduce a \\\"repeat until success\\\" protocol [3] that guarantees every execution prepares a magic state successfully. For all the protocols in this notebook, we use AutoQASM to program these procedures, demonstrating AutoQASM's ability to express the classical control flow needed for magic state distillation and how AutoQASM enables early fault-tolerant quantum computing experiments."
   ]
  },
  {
   "cell_type": "markdown",
   "id": "3ba7d657-f5d9-4933-a91b-a870d565d9d4",
   "metadata": {},
   "source": [
    "Let's first import the modules used in this notebook."
   ]
  },
  {
   "cell_type": "code",
   "execution_count": 1,
   "id": "ccdb0127-3c13-42b1-980c-c70f2e16fc00",
   "metadata": {},
   "outputs": [],
   "source": [
    "# general imports\n",
    "from typing import Dict, List\n",
    "from collections import Counter\n",
    "import numpy as np\n",
    "from collections import defaultdict\n",
    "\n",
    "# AWS imports: Import Braket SDK modules\n",
    "from braket.devices.local_simulator import LocalSimulator\n",
    "import braket.experimental.autoqasm as aq\n",
    "import braket.experimental.autoqasm.instructions as ins"
   ]
  },
  {
   "cell_type": "markdown",
   "id": "6f902b86-4201-4d0c-a371-6482743f67be",
   "metadata": {},
   "source": [
    "## Apply non-Clifford gates with magic states\n",
    "To form a universal gateset, at least one non-Clifford gate is needed in addition to Clifford gates. This additional gate is commonly chosen to be $RZ(\\pi/4)$ or $RZ(\\pi/6)$ gate. These non-Clifford gates are not possible to implement transversally with stabilizer code. Including these non-Clifford gates would lose the desirable properties of Clifford gates. Here is where magic states come to the rescue. In this section, let's learn how to apply a $RZ(\\pi/6)$ gate with only Clifford gates and a magic state [1], a procedure known as gate teleportation. Similar to [state teleportation](https://en.wikipedia.org/wiki/Quantum_teleportation), gate teleportation uses forward feedback to form dynamic circuits, but with the intention of applying a quantum gate instead of teleporting a quantum state. For simplicity, we first focus on demonstrating the algorithm of gate teleportation with a physical circuit, i.e., without encoding to an error correction code. The same algorithm can also apply to logical circuits, by replacing the Clifford gates and the magic state with the logical version. After this section, we will introduce how to create a logical magic state."
   ]
  },
  {
   "cell_type": "markdown",
   "id": "d2f60849-0d78-4dff-93d8-7213e2ead652",
   "metadata": {},
   "source": [
    "First, we define a subroutine, `physical_magic_state_a_type`, to create a A-type physical magic state, $\\ket{A_{\\pi/6}} = \\frac{1}{\\sqrt{2}}(\\ket{0}+e^{i\\pi/6}\\ket{1})$ [1]. Because the example will be executed on an ideal simulator, the subroutine creates an ideal magic state. But on a near-term hardware, this magic state preparation would be subject to noise.\n",
    "\n",
    "For demonstration purposes, we define a subroutine, `basis_rotation_pi6`, that rotates the basis of a quantum state before a measurement. This helps verify that the main program introduced later indeed implements a $RZ(\\pi/6)$ gate on the data qubit. This subroutine is not a key part of gate teleportation. "
   ]
  },
  {
   "cell_type": "code",
   "execution_count": 2,
   "id": "e6d70c3d-a56b-4428-a8cd-477fc1bf50fd",
   "metadata": {},
   "outputs": [],
   "source": [
    "@aq.subroutine\n",
    "def physical_magic_state_a_type(q: int) -> None:\n",
    "    ins.h(q)\n",
    "    ins.rz(q, np.pi/6)\n",
    "\n",
    "@aq.subroutine\n",
    "def basis_rotation_pi6(q: int):\n",
    "    ins.rz(q, -np.pi/6)\n",
    "    ins.h(q)"
   ]
  },
  {
   "cell_type": "markdown",
   "id": "ea3f037d-80c1-4e7d-8127-82978059dfa6",
   "metadata": {},
   "source": [
    "The main program `gate_teleportation` below demonstrates applying a $RZ(\\pi/6)$ gate on a data qubit. The data qubit can start out in any state. Without loss of generality, we prepare the data qubit in $\\ket{\\text{data}} = \\frac{1}{\\sqrt{2}}(\\ket{0}+\\ket{1})$. We also prepare a magic state on an ancilla qubit. Then, we apply a CNOT gate over the data and ancilla qubit. Up to this point, the 2-qubit quantum state is \n",
    "$$ (\\ket{0}+e^{i\\pi/6}\\ket{1})\\ket{0} + (e^{i\\pi/6}\\ket{0}+\\ket{1})\\ket{1} .$$\n",
    "By measuring the ancilla qubit (the second qubit) and post-selecting the results with measurement outcome = 0, the procedure effectively implements a $RZ(\\pi/6)$ gate on the data qubit. To verify the resulting data qubit state is in the target state $RZ(\\pi/6)\\ket{\\text{data}} = \\frac{1}{\\sqrt{2}}(\\ket{0}+e^{i\\pi/6}\\ket{1})$, we rotate the state in the data qubit and then measure it."
   ]
  },
  {
   "cell_type": "code",
   "execution_count": 3,
   "id": "dac47e70-159d-4ebe-86a7-bd11ccf7cbe3",
   "metadata": {},
   "outputs": [],
   "source": [
    "@aq.main(num_qubits=2)\n",
    "def gate_teleportation():\n",
    "    q_data = 0\n",
    "    q_magic = 1\n",
    "\n",
    "    # state preparation\n",
    "    ins.h(q_data)\n",
    "    physical_magic_state_a_type(q_magic)\n",
    "\n",
    "    # apply CNOT\n",
    "    ins.cnot(q_data, q_magic)\n",
    "\n",
    "    # measure data qubit in the target basis, measure ancilla in z-basis\n",
    "    basis_rotation_pi6(q_data)\n",
    "    c = ins.measure([q_data, q_magic])"
   ]
  },
  {
   "cell_type": "markdown",
   "id": "80f8c0be-e3fa-4c5f-bad5-b4e931148b2f",
   "metadata": {},
   "source": [
    "Here is a helper function to compute marginal probability. It is used in the analysis following this code block."
   ]
  },
  {
   "cell_type": "code",
   "execution_count": 4,
   "id": "b8546ad8-b6ce-45d1-9c3f-a0efb15b3e8d",
   "metadata": {},
   "outputs": [],
   "source": [
    "def get_marginal_probs(probs: Dict[str, float], targets: List[int]) -> Dict[str, float]:\n",
    "    \"\"\"Get marginal probabilities of a distribution.\n",
    "\n",
    "    Args:\n",
    "        probs (Dict[str, float]): Original probability distribution.\n",
    "        targets (List[int]): The qubits to compute marginal probability.\n",
    "\n",
    "    Returns:\n",
    "        Dict[str, float]: Marginal probabilities.\n",
    "    \"\"\"\n",
    "    new_probs = defaultdict(float)\n",
    "    for bitstring, value in probs.items():\n",
    "        new_bitstring = \"\".join([bitstring[t] for t in targets])\n",
    "        new_probs[new_bitstring] += value\n",
    "\n",
    "    total_shots = sum(new_probs.values())\n",
    "    return {k:v/total_shots for k,v in new_probs.items()}"
   ]
  },
  {
   "cell_type": "markdown",
   "id": "b82e7365-4353-48d0-ba34-1c65cad43313",
   "metadata": {},
   "source": [
    "Now, we are ready to run the gate teleportation program on a local simulator. The measurement counts are then post-selected to keep those which measure \"0\" on the ancilla qubit. The Z expectation value of the data qubit is 1.0, confirming that we indeed implemented $RZ(\\pi/6)\\ket{\\text{data}}$."
   ]
  },
  {
   "cell_type": "code",
   "execution_count": 5,
   "id": "1096e5e3-7499-4423-b650-f84b91c4347a",
   "metadata": {},
   "outputs": [
    {
     "name": "stdout",
     "output_type": "stream",
     "text": [
      "measurement counts:  Counter({'00': 46, '01': 39, '11': 15})\n",
      "Z expectation value:  1.0\n"
     ]
    }
   ],
   "source": [
    "# Get measurement result\n",
    "result = LocalSimulator().run(gate_teleportation, shots=100).result()\n",
    "counts = Counter(result.measurements[\"c\"])\n",
    "print(\"measurement counts: \", counts)\n",
    "\n",
    "# Post-select the measurement outcome that measures \"0\" in ancilla\n",
    "post_selected_counts = {k:v for k,v in counts.items() if k[1]==\"0\"}\n",
    "\n",
    "# Compute the expectation value of Z observable on the data qubit\n",
    "marginal_probs = get_marginal_probs(post_selected_counts, [0])\n",
    "expval = marginal_probs.get(\"0\", 0) - marginal_probs.get(\"1\", 0)\n",
    "print(\"Z expectation value: \", expval)"
   ]
  },
  {
   "cell_type": "markdown",
   "id": "0d4f5c35-a204-4fe5-b980-9b0aa4304bd2",
   "metadata": {},
   "source": [
    "## Magic state distillation\n",
    "We have seen how injecting a magic state into the quantum program enables the $RZ(\\pi/6)$ gate, which, when combined with the Clifford gates, forms a universal gateset. In the above demonstration, the magic state is prepared as a physical state. It is subject to noise on a near-term device. In this section, we demonstrate how to create a logical T-type magic state, $\\ket{T}=\\cos{\\beta}\\ket{0}+e^{i\\pi /4}\\sin{\\beta}\\ket{1}$ with $\\beta=\\frac12 \\arccos{\\frac{1}{\\sqrt{3}}}$, based on the 5-qubit error correction code [1, 2]. The T-type magic state is closely related to the A-type, $\\ket{A_{\\pi/6}}$, introduced in the previous section. The logical A-type magic state can be obtained by post-selecting the +1 outcome of $Z\\otimes Z$ stabilizer on a $\\ket{T}\\otimes\\ket{T}$ state and discarding the second qubit, a procedure detailed in Ref[1]."
   ]
  },
  {
   "cell_type": "markdown",
   "id": "7f0134c3-57bd-40b4-be86-d559f58dc38c",
   "metadata": {},
   "source": [
    "We first define a subroutine, `physical_magic_state_t_type`, to create a T-type physical magic state. On a near-term hardware, this magic state preparation would be subject to noise. "
   ]
  },
  {
   "cell_type": "code",
   "execution_count": 6,
   "id": "a56c8a54-3383-4afe-9de2-1b9fafdf25ea",
   "metadata": {},
   "outputs": [],
   "source": [
    "@aq.subroutine\n",
    "def physical_magic_state_t_type(q: int) -> None:\n",
    "    ins.ry(q, np.arccos(1/np.sqrt(3)))\n",
    "    ins.rz(q, np.pi/4)"
   ]
  },
  {
   "cell_type": "markdown",
   "id": "ac4515d3-d226-4b69-b56e-349d169bcc13",
   "metadata": {},
   "source": [
    "Then, we define a subroutine for the decoder of the 5-qubit error correction code. Measurements after running the decoder are typically used as error syndromes which inform the types of errors in the quantum state. Here, however, we will use the measurement results to post-select desired states."
   ]
  },
  {
   "cell_type": "code",
   "execution_count": 7,
   "id": "6199e8e3-44f6-419c-a0f3-f8aaa9b24ba5",
   "metadata": {},
   "outputs": [],
   "source": [
    "@aq.subroutine\n",
    "def decoder(q0:int, q1:int, q2:int, q3:int, q4:int):\n",
    "    ins.cnot(q1, q0)\n",
    "    ins.cz(q1, q0)\n",
    "    ins.cz(q1, q2)\n",
    "    ins.cz(q1, q4)\n",
    "\n",
    "    ins.cnot(q2, q0)\n",
    "    ins.cz(q2, q3)\n",
    "    ins.cz(q2, q4)\n",
    "\n",
    "    ins.cnot(q3, q0)\n",
    "\n",
    "    ins.cnot(q4, q0)\n",
    "    ins.cz(q4, q0)\n",
    "\n",
    "    ins.z(q0)\n",
    "    ins.z(q1)\n",
    "    ins.z(q4)\n",
    "\n",
    "    ins.h(q1)\n",
    "    ins.h(q2)\n",
    "    ins.h(q3)\n",
    "    ins.h(q4)"
   ]
  },
  {
   "cell_type": "markdown",
   "id": "271e6db2-2a6f-40ff-a560-898f76b46130",
   "metadata": {},
   "source": [
    "The code snippet below is the main program for magic state distillation. First, we prepare a physical magic state on each of the five qubits. The qubit 0 is the data qubit, while the other four are ancilla. Then, the decoder subroutine is applied on all qubits. Finally, a rotation layer, consisting of a H gate and a Y gate, is needed to rotate the state in data qubit to the magic state. The magic state is successfully \"distilled\" only when all ancilla are measured as \"0\" [1]."
   ]
  },
  {
   "cell_type": "code",
   "execution_count": 8,
   "id": "73dd3d78-1444-4520-98cc-dad077a97d36",
   "metadata": {},
   "outputs": [],
   "source": [
    "@aq.main(num_qubits=5)\n",
    "def distillation():\n",
    "    qubits = range(5)\n",
    "\n",
    "    # state preparation\n",
    "    for q in aq.ArrayVar(qubits, dimensions=[5]):\n",
    "        physical_magic_state_t_type(q)\n",
    "\n",
    "    # decoding\n",
    "    decoder(*qubits)\n",
    "\n",
    "    # final rotation\n",
    "    ins.h(qubits[0])\n",
    "    ins.y(qubits[0])\n",
    "\n",
    "    # measure ancilla\n",
    "    c = ins.measure(qubits[1:5])"
   ]
  },
  {
   "cell_type": "markdown",
   "id": "f3f2b76e-5996-410b-a53f-4196ccc9df6f",
   "metadata": {},
   "source": [
    "We run the distillation program on a local simulator."
   ]
  },
  {
   "cell_type": "code",
   "execution_count": 9,
   "id": "43f4c1b1-dbcc-4ee0-8f99-db087bb0c8d8",
   "metadata": {},
   "outputs": [
    {
     "name": "stdout",
     "output_type": "stream",
     "text": [
      "measurement counts:  Counter({'0000': 181, '1000': 63, '0100': 63, '0010': 62, '0101': 60, '1111': 59, '1101': 59, '0110': 54, '0111': 54, '1100': 52, '1010': 52, '1110': 50, '1001': 49, '1011': 48, '0001': 47, '0011': 47})\n"
     ]
    }
   ],
   "source": [
    "n_shots = 1000\n",
    "result = LocalSimulator().run(distillation, shots=n_shots).result()\n",
    "counts = Counter(result.measurements[\"c\"])\n",
    "print(\"measurement counts: \", counts)"
   ]
  },
  {
   "cell_type": "markdown",
   "id": "8126350f-c7bd-4ec9-bbdb-74a9300fc3d9",
   "metadata": {},
   "source": [
    "About 1/6 of the total shots correspond to successful preparations of T-type magic state on qubit 0 (i.e., measuring \"0000\" in ancilla), agreeing with the result in Ref[1]."
   ]
  },
  {
   "cell_type": "code",
   "execution_count": 10,
   "id": "c0e78ced-1137-4d6e-be88-2cc90b40105d",
   "metadata": {},
   "outputs": [
    {
     "name": "stdout",
     "output_type": "stream",
     "text": [
      "success ratio:  0.181\n"
     ]
    }
   ],
   "source": [
    "success_count = len([x for x in result.measurements[\"c\"] if x==\"0000\"])\n",
    "print(\"success ratio: \", success_count/n_shots)"
   ]
  },
  {
   "cell_type": "markdown",
   "id": "74c6e629-48fc-4310-bbac-7194f9c6806c",
   "metadata": {},
   "source": [
    "## Repeat until success\n",
    "To guarantee a successful preparation of the magic state in every shot, we introduce a repeat-until-success (RUS) protocol [3]. \n",
    "\n",
    "For demonstration purposes, we first define a subroutine, `basis_rotation_t_type`, that rotates the basis of a quantum state before a measurement. This helps verify that the main program introduced later indeed create a T-type magic state on the data qubit. This subroutine is not a key part of magic state distillation and the RUS protocol. "
   ]
  },
  {
   "cell_type": "code",
   "execution_count": 11,
   "id": "74855d76-82e9-4e63-b0dc-1310e2f2984f",
   "metadata": {},
   "outputs": [],
   "source": [
    "@aq.subroutine\n",
    "def basis_rotation_t_type(q: int):\n",
    "    ins.rz(q, -np.pi/4)\n",
    "    ins.ry(q, -np.arccos(1/np.sqrt(3)))"
   ]
  },
  {
   "cell_type": "markdown",
   "id": "a936e847-c101-4086-909f-526daccc52af",
   "metadata": {},
   "source": [
    "In the main program, `distillation_rus`, the state preparation and the decoding are repeated until all ancilla measure \\\"0\\\". This RUS protocol guarantees that every shot ends up with successful magic state preparation. This protocol requires `while`-loops in the quantum program because we continue to retry until the success condition is met. It guarantees that every shot ends up with successful magic state preparation, distilling the magic state."
   ]
  },
  {
   "cell_type": "code",
   "execution_count": 12,
   "id": "7f39a60c-389d-46b4-a862-fa1e02ea2063",
   "metadata": {},
   "outputs": [],
   "source": [
    "@aq.main(num_qubits=5)\n",
    "def distillation_rus():\n",
    "    qubits = range(5)\n",
    "    aq_qubits = aq.ArrayVar(qubits, dimensions=[len(qubits)])\n",
    "\n",
    "    # RUS: repeat until measuring all-zero in ancilla\n",
    "    c1 = aq.BoolVar(True)\n",
    "    while c1:\n",
    "        # reset qubits\n",
    "        for q in qubits:\n",
    "            ins.reset(q)\n",
    "\n",
    "        # state preparation\n",
    "        for q in aq_qubits:\n",
    "            physical_magic_state_t_type(q)\n",
    "\n",
    "        # decoding\n",
    "        decoder(*qubits)\n",
    "\n",
    "        # measure ancilla\n",
    "        c = ins.measure(qubits[1:5])\n",
    "        c1 = c[0] or c[1] or c[2] or c[3]\n",
    "\n",
    "    # final rotation\n",
    "    ins.h(qubits[0])\n",
    "    ins.y(qubits[0])\n",
    "\n",
    "    # measuring in the basis of magic state\n",
    "    basis_rotation_t_type(qubits[0])\n",
    "    c2 = ins.measure(qubits[0])"
   ]
  },
  {
   "cell_type": "markdown",
   "id": "408356f1-e4cc-486b-8d6a-db9230c7cf28",
   "metadata": {},
   "source": [
    "Running the RUS version of magic state distillation, the expectation value on the data qubit (qubit 0) is 1.0, indicating that T-type magic states are successfully prepared in all 20 shots."
   ]
  },
  {
   "cell_type": "code",
   "execution_count": 13,
   "id": "05a77ec3-ddb0-48e8-b4b4-1d8ca2ab832f",
   "metadata": {},
   "outputs": [
    {
     "name": "stdout",
     "output_type": "stream",
     "text": [
      "Z expectation value:  1.0\n"
     ]
    }
   ],
   "source": [
    "result = LocalSimulator().run(distillation_rus, shots=20).result()\n",
    "counts = Counter(result.measurements[\"c2\"])\n",
    "probs = {str(k):v/sum(counts.values()) for k,v in counts.items()}\n",
    "\n",
    "expval = probs.get(\"0\", 0) - probs.get(\"1\", 0)\n",
    "print(\"Z expectation value: \", expval)"
   ]
  },
  {
   "cell_type": "markdown",
   "id": "a27cc555-1a52-402c-9597-97cfe6ffb425",
   "metadata": {},
   "source": [
    "## Summary\n",
    "In this notebook, we demonstrate and execute the protocol of magic state distillation and gate teleportation. These protocols are at the core of fault tolerant quantum computing with stabilizer codes. The procedure not only requires feed forward control flow, but also the expressibility of while-loop. We show that AutoQASM has the ability to express quantum programs that tie these complex classical control flow to quantum instructions. "
   ]
  },
  {
   "cell_type": "markdown",
   "id": "ce1d114c-b8db-4200-870c-a4bbe4f5f293",
   "metadata": {},
   "source": [
    "## Reference\n",
    "[1] S. Bravyi et al., Universal Quantum Computation with ideal Clifford gates and noisy ancillas. arXiv: https://arxiv.org/abs/quant-ph/0403025\n",
    "\n",
    "[2] C. H. Bennett et al., Mixed State Entanglement and Quantum Error Correction. arXiv: https://arxiv.org/abs/quant-ph/9604024\n",
    "\n",
    "[3] A. Paetznick et al., Repeat-Until-Success: Non-deterministic decomposition of single-qubit unitaries. arXiv: https://arxiv.org/abs/1311.1074"
   ]
  }
 ],
 "metadata": {
  "kernelspec": {
   "display_name": "Python 3 (ipykernel)",
   "language": "python",
   "name": "python3"
  },
  "language_info": {
   "codemirror_mode": {
    "name": "ipython",
    "version": 3
   },
   "file_extension": ".py",
   "mimetype": "text/x-python",
   "name": "python",
   "nbconvert_exporter": "python",
   "pygments_lexer": "ipython3",
   "version": "3.10.9"
  }
 },
 "nbformat": 4,
 "nbformat_minor": 5
}
