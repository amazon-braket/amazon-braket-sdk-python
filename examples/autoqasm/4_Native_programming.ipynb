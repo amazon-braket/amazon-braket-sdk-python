{
 "cells": [
  {
   "cell_type": "markdown",
   "id": "5f4d0289",
   "metadata": {},
   "source": [
    "# Native programming\n",
    "\n",
    "In order to execute a program on a quantum computer, each qubit in the program must be mapped to a physical qubit on the device, and each operation must be mapped to one or more \"native gates\", that is, gates that are natively implemented by the hardware. While this can be handled automatically by a compiler, a quantum software developer or researcher may want to be able to control these mappings explicitly. We refer to this low-level programming as \"native programming\".\n",
    "\n",
    "This notebook provides a demonstration of the native programming features of AutoQASM by targeting a simple two-qubit circuit to physical qubits and native gates of an IonQ quantum computer, which is available through Amazon Braket. "
   ]
  },
  {
   "cell_type": "code",
   "execution_count": 1,
   "id": "954638fe",
   "metadata": {},
   "outputs": [],
   "source": [
    "# general imports\n",
    "import IPython\n",
    "\n",
    "# AWS imports: Import Braket SDK modules\n",
    "from braket.devices import Devices\n",
    "import braket.experimental.autoqasm as aq"
   ]
  },
  {
   "cell_type": "markdown",
   "id": "5dd374f2",
   "metadata": {},
   "source": [
    "The circuit we will use for this demonstration is a program which creates and measures a Bell state on two qubits. Here, we write this program at the typical level of abstraction, which is hardware-agnostic. We use integers `0` and `1` to specify qubit indices, and we use the built-in `h` and `cnot` instructions from the AutoQASM `instructions` module."
   ]
  },
  {
   "cell_type": "code",
   "execution_count": 2,
   "id": "ddf6cca5",
   "metadata": {},
   "outputs": [
    {
     "name": "stdout",
     "output_type": "stream",
     "text": [
      "OPENQASM 3.0;\n",
      "output bit[2] return_value;\n",
      "qubit[2] __qubits__;\n",
      "h __qubits__[0];\n",
      "cnot __qubits__[0], __qubits__[1];\n",
      "bit[2] __bit_0__ = \"00\";\n",
      "__bit_0__[0] = measure __qubits__[0];\n",
      "__bit_0__[1] = measure __qubits__[1];\n",
      "return_value = __bit_0__;\n"
     ]
    }
   ],
   "source": [
    "from braket.experimental.autoqasm.instructions import h, cnot, measure\n",
    "\n",
    "\n",
    "@aq.main\n",
    "def bell_state():\n",
    "    h(0)\n",
    "    cnot(0, 1)\n",
    "    return measure([0, 1])\n",
    "\n",
    "\n",
    "print(bell_state.build().to_ir())"
   ]
  },
  {
   "cell_type": "markdown",
   "id": "9ff3d255",
   "metadata": {},
   "source": [
    "As seen in the generated OpenQASM program, this produces a program that uses a two-qubit register `__qubits__` and the built-in `h` and `cnot` gates. At runtime, the compiler will automatically map this to two physical qubits, and will compile the `h` and `cnot` instructions to an equivalent sequence of gates which are native to the target device.\n",
    "\n",
    "In the native programming scenario, however, the developer wants full control over the physical qubit mappings and conversion to native gates. We can take advantage of two features of AutoQASM to enable this. First, we replace the integers `0` and `1`, which specify virtual qubit indices, with the strings `\"$0\"` and `\"$1\"`, which specify physical qubits. Second, we wrap the gates inside a `verbatim` block (using the `aq.verbatim()` context), which instructs the compiler to avoid modifying anything inside the block."
   ]
  },
  {
   "cell_type": "code",
   "execution_count": 3,
   "id": "940d4b22",
   "metadata": {},
   "outputs": [
    {
     "name": "stdout",
     "output_type": "stream",
     "text": [
      "OPENQASM 3.0;\n",
      "output bit[2] return_value;\n",
      "pragma braket verbatim\n",
      "box {\n",
      "    h $0;\n",
      "    cnot $0, $1;\n",
      "}\n",
      "bit[2] __bit_0__ = \"00\";\n",
      "__bit_0__[0] = measure $0;\n",
      "__bit_0__[1] = measure $1;\n",
      "return_value = __bit_0__;\n"
     ]
    }
   ],
   "source": [
    "@aq.main\n",
    "def bell_state():\n",
    "    with aq.verbatim():\n",
    "        h(\"$0\")\n",
    "        cnot(\"$0\", \"$1\")\n",
    "    return measure([\"$0\", \"$1\"])\n",
    "\n",
    "\n",
    "print(bell_state.build().to_ir())"
   ]
  },
  {
   "cell_type": "markdown",
   "id": "a9182030",
   "metadata": {},
   "source": [
    "This program now targets physical qubits, and the gates will not be modified by the compiler.\n",
    "\n",
    "## Device-specific validation\n",
    "\n",
    "Bypassing the mapping and compilation is only the first step of native programming. Because native programming is intended for targeting a program to a specific device, we need to specify the target device in the AutoQASM program. We can accomplish this by adding a `device` argument to the `build()` call, passing the ARN of the Amazon Braket device (or, optionally, a `braket.devices.Device` object) that we want to target.\n",
    "\n",
    "Here we target the `Devices.IonQ.Aria1` device. When building this program, AutoQASM will validate that (among other things) the contents of any `verbatim` blocks respect the native gate set and connectivity of the target device. "
   ]
  },
  {
   "cell_type": "code",
   "execution_count": 4,
   "id": "72cde00f",
   "metadata": {},
   "outputs": [
    {
     "name": "stdout",
     "output_type": "stream",
     "text": [
      "ERROR: The gate \"h\" is not a native gate of the target device \"Aria 1\". Only native gates may be used inside a verbatim block. The native gates of the device are: ['gpi', 'gpi2', 'ms']\n"
     ]
    }
   ],
   "source": [
    "@aq.main\n",
    "def bell_state():\n",
    "    with aq.verbatim():\n",
    "        h(\"$0\")\n",
    "        cnot(\"$0\", \"$1\")\n",
    "    return measure([\"$0\", \"$1\"])\n",
    "\n",
    "try:\n",
    "    bell_state.build(device=Devices.IonQ.Aria1)\n",
    "except Exception as e:\n",
    "    print(\"ERROR:\", e)"
   ]
  },
  {
   "cell_type": "markdown",
   "id": "3ef34c2d",
   "metadata": {},
   "source": [
    "The validation error indicates that we cannot use `h` and `cnot` inside a `verbatim` block for this device. Instead, we must express our program in terms of the native gates of the device: `gpi`, `gpi2`, and `ms`.\n",
    "\n",
    "## Custom gate definitions using `@aq.gate`\n",
    "\n",
    "In order to do this, we can use the `@aq.gate` decorator in AutoQASM to define custom gates, which we implement in terms of this native gate set. In the Python script `ionq_gates.py`, we define custom implementations of the `h` and `cnot` gates which are built on top of the `gpi`, `gpi2`, and `ms` gates."
   ]
  },
  {
   "cell_type": "code",
   "execution_count": 5,
   "id": "518b9d23",
   "metadata": {},
   "outputs": [
    {
     "data": {
      "text/html": [
       "<style>pre { line-height: 125%; }\n",
       "td.linenos .normal { color: inherit; background-color: transparent; padding-left: 5px; padding-right: 5px; }\n",
       "span.linenos { color: inherit; background-color: transparent; padding-left: 5px; padding-right: 5px; }\n",
       "td.linenos .special { color: #000000; background-color: #ffffc0; padding-left: 5px; padding-right: 5px; }\n",
       "span.linenos.special { color: #000000; background-color: #ffffc0; padding-left: 5px; padding-right: 5px; }\n",
       ".output_html .hll { background-color: #ffffcc }\n",
       ".output_html { background: #f8f8f8; }\n",
       ".output_html .c { color: #3D7B7B; font-style: italic } /* Comment */\n",
       ".output_html .err { border: 1px solid #FF0000 } /* Error */\n",
       ".output_html .k { color: #008000; font-weight: bold } /* Keyword */\n",
       ".output_html .o { color: #666666 } /* Operator */\n",
       ".output_html .ch { color: #3D7B7B; font-style: italic } /* Comment.Hashbang */\n",
       ".output_html .cm { color: #3D7B7B; font-style: italic } /* Comment.Multiline */\n",
       ".output_html .cp { color: #9C6500 } /* Comment.Preproc */\n",
       ".output_html .cpf { color: #3D7B7B; font-style: italic } /* Comment.PreprocFile */\n",
       ".output_html .c1 { color: #3D7B7B; font-style: italic } /* Comment.Single */\n",
       ".output_html .cs { color: #3D7B7B; font-style: italic } /* Comment.Special */\n",
       ".output_html .gd { color: #A00000 } /* Generic.Deleted */\n",
       ".output_html .ge { font-style: italic } /* Generic.Emph */\n",
       ".output_html .ges { font-weight: bold; font-style: italic } /* Generic.EmphStrong */\n",
       ".output_html .gr { color: #E40000 } /* Generic.Error */\n",
       ".output_html .gh { color: #000080; font-weight: bold } /* Generic.Heading */\n",
       ".output_html .gi { color: #008400 } /* Generic.Inserted */\n",
       ".output_html .go { color: #717171 } /* Generic.Output */\n",
       ".output_html .gp { color: #000080; font-weight: bold } /* Generic.Prompt */\n",
       ".output_html .gs { font-weight: bold } /* Generic.Strong */\n",
       ".output_html .gu { color: #800080; font-weight: bold } /* Generic.Subheading */\n",
       ".output_html .gt { color: #0044DD } /* Generic.Traceback */\n",
       ".output_html .kc { color: #008000; font-weight: bold } /* Keyword.Constant */\n",
       ".output_html .kd { color: #008000; font-weight: bold } /* Keyword.Declaration */\n",
       ".output_html .kn { color: #008000; font-weight: bold } /* Keyword.Namespace */\n",
       ".output_html .kp { color: #008000 } /* Keyword.Pseudo */\n",
       ".output_html .kr { color: #008000; font-weight: bold } /* Keyword.Reserved */\n",
       ".output_html .kt { color: #B00040 } /* Keyword.Type */\n",
       ".output_html .m { color: #666666 } /* Literal.Number */\n",
       ".output_html .s { color: #BA2121 } /* Literal.String */\n",
       ".output_html .na { color: #687822 } /* Name.Attribute */\n",
       ".output_html .nb { color: #008000 } /* Name.Builtin */\n",
       ".output_html .nc { color: #0000FF; font-weight: bold } /* Name.Class */\n",
       ".output_html .no { color: #880000 } /* Name.Constant */\n",
       ".output_html .nd { color: #AA22FF } /* Name.Decorator */\n",
       ".output_html .ni { color: #717171; font-weight: bold } /* Name.Entity */\n",
       ".output_html .ne { color: #CB3F38; font-weight: bold } /* Name.Exception */\n",
       ".output_html .nf { color: #0000FF } /* Name.Function */\n",
       ".output_html .nl { color: #767600 } /* Name.Label */\n",
       ".output_html .nn { color: #0000FF; font-weight: bold } /* Name.Namespace */\n",
       ".output_html .nt { color: #008000; font-weight: bold } /* Name.Tag */\n",
       ".output_html .nv { color: #19177C } /* Name.Variable */\n",
       ".output_html .ow { color: #AA22FF; font-weight: bold } /* Operator.Word */\n",
       ".output_html .w { color: #bbbbbb } /* Text.Whitespace */\n",
       ".output_html .mb { color: #666666 } /* Literal.Number.Bin */\n",
       ".output_html .mf { color: #666666 } /* Literal.Number.Float */\n",
       ".output_html .mh { color: #666666 } /* Literal.Number.Hex */\n",
       ".output_html .mi { color: #666666 } /* Literal.Number.Integer */\n",
       ".output_html .mo { color: #666666 } /* Literal.Number.Oct */\n",
       ".output_html .sa { color: #BA2121 } /* Literal.String.Affix */\n",
       ".output_html .sb { color: #BA2121 } /* Literal.String.Backtick */\n",
       ".output_html .sc { color: #BA2121 } /* Literal.String.Char */\n",
       ".output_html .dl { color: #BA2121 } /* Literal.String.Delimiter */\n",
       ".output_html .sd { color: #BA2121; font-style: italic } /* Literal.String.Doc */\n",
       ".output_html .s2 { color: #BA2121 } /* Literal.String.Double */\n",
       ".output_html .se { color: #AA5D1F; font-weight: bold } /* Literal.String.Escape */\n",
       ".output_html .sh { color: #BA2121 } /* Literal.String.Heredoc */\n",
       ".output_html .si { color: #A45A77; font-weight: bold } /* Literal.String.Interpol */\n",
       ".output_html .sx { color: #008000 } /* Literal.String.Other */\n",
       ".output_html .sr { color: #A45A77 } /* Literal.String.Regex */\n",
       ".output_html .s1 { color: #BA2121 } /* Literal.String.Single */\n",
       ".output_html .ss { color: #19177C } /* Literal.String.Symbol */\n",
       ".output_html .bp { color: #008000 } /* Name.Builtin.Pseudo */\n",
       ".output_html .fm { color: #0000FF } /* Name.Function.Magic */\n",
       ".output_html .vc { color: #19177C } /* Name.Variable.Class */\n",
       ".output_html .vg { color: #19177C } /* Name.Variable.Global */\n",
       ".output_html .vi { color: #19177C } /* Name.Variable.Instance */\n",
       ".output_html .vm { color: #19177C } /* Name.Variable.Magic */\n",
       ".output_html .il { color: #666666 } /* Literal.Number.Integer.Long */</style><div class=\"highlight\"><pre><span></span><span class=\"kn\">import</span> <span class=\"nn\">numpy</span> <span class=\"k\">as</span> <span class=\"nn\">np</span>\n",
       "\n",
       "<span class=\"kn\">import</span> <span class=\"nn\">braket.experimental.autoqasm</span> <span class=\"k\">as</span> <span class=\"nn\">aq</span>\n",
       "<span class=\"kn\">from</span> <span class=\"nn\">braket.experimental.autoqasm.instructions</span> <span class=\"kn\">import</span> <span class=\"n\">gpi</span><span class=\"p\">,</span> <span class=\"n\">gpi2</span><span class=\"p\">,</span> <span class=\"n\">ms</span>\n",
       "\n",
       "\n",
       "<span class=\"nd\">@aq</span><span class=\"o\">.</span><span class=\"n\">gate</span>\n",
       "<span class=\"k\">def</span> <span class=\"nf\">h</span><span class=\"p\">(</span><span class=\"n\">q</span><span class=\"p\">:</span> <span class=\"n\">aq</span><span class=\"o\">.</span><span class=\"n\">Qubit</span><span class=\"p\">):</span>\n",
       "    <span class=\"n\">gpi2</span><span class=\"p\">(</span><span class=\"n\">q</span><span class=\"p\">,</span> <span class=\"n\">np</span><span class=\"o\">.</span><span class=\"n\">pi</span> <span class=\"o\">/</span> <span class=\"mi\">2</span><span class=\"p\">)</span>\n",
       "    <span class=\"n\">gpi</span><span class=\"p\">(</span><span class=\"n\">q</span><span class=\"p\">,</span> <span class=\"mi\">0</span><span class=\"p\">)</span>\n",
       "\n",
       "\n",
       "<span class=\"nd\">@aq</span><span class=\"o\">.</span><span class=\"n\">gate</span>\n",
       "<span class=\"k\">def</span> <span class=\"nf\">u</span><span class=\"p\">(</span><span class=\"n\">q</span><span class=\"p\">:</span> <span class=\"n\">aq</span><span class=\"o\">.</span><span class=\"n\">Qubit</span><span class=\"p\">,</span> <span class=\"n\">a</span><span class=\"p\">:</span> <span class=\"nb\">float</span><span class=\"p\">,</span> <span class=\"n\">b</span><span class=\"p\">:</span> <span class=\"nb\">float</span><span class=\"p\">,</span> <span class=\"n\">c</span><span class=\"p\">:</span> <span class=\"nb\">float</span><span class=\"p\">):</span>\n",
       "    <span class=\"n\">gpi2</span><span class=\"p\">(</span><span class=\"n\">q</span><span class=\"p\">,</span> <span class=\"n\">a</span><span class=\"p\">)</span>\n",
       "    <span class=\"n\">gpi</span><span class=\"p\">(</span><span class=\"n\">q</span><span class=\"p\">,</span> <span class=\"n\">b</span><span class=\"p\">)</span>\n",
       "    <span class=\"n\">gpi2</span><span class=\"p\">(</span><span class=\"n\">q</span><span class=\"p\">,</span> <span class=\"n\">c</span><span class=\"p\">)</span>\n",
       "\n",
       "\n",
       "<span class=\"nd\">@aq</span><span class=\"o\">.</span><span class=\"n\">gate</span>\n",
       "<span class=\"k\">def</span> <span class=\"nf\">rx</span><span class=\"p\">(</span><span class=\"n\">q</span><span class=\"p\">:</span> <span class=\"n\">aq</span><span class=\"o\">.</span><span class=\"n\">Qubit</span><span class=\"p\">,</span> <span class=\"n\">theta</span><span class=\"p\">:</span> <span class=\"nb\">float</span><span class=\"p\">):</span>\n",
       "    <span class=\"n\">u</span><span class=\"p\">(</span><span class=\"n\">q</span><span class=\"p\">,</span> <span class=\"n\">np</span><span class=\"o\">.</span><span class=\"n\">pi</span> <span class=\"o\">/</span> <span class=\"mi\">2</span><span class=\"p\">,</span> <span class=\"n\">theta</span> <span class=\"o\">/</span> <span class=\"mi\">2</span> <span class=\"o\">+</span> <span class=\"n\">np</span><span class=\"o\">.</span><span class=\"n\">pi</span> <span class=\"o\">/</span> <span class=\"mi\">2</span><span class=\"p\">,</span> <span class=\"n\">np</span><span class=\"o\">.</span><span class=\"n\">pi</span> <span class=\"o\">/</span> <span class=\"mi\">2</span><span class=\"p\">)</span>\n",
       "\n",
       "\n",
       "<span class=\"nd\">@aq</span><span class=\"o\">.</span><span class=\"n\">gate</span>\n",
       "<span class=\"k\">def</span> <span class=\"nf\">ry</span><span class=\"p\">(</span><span class=\"n\">q</span><span class=\"p\">:</span> <span class=\"n\">aq</span><span class=\"o\">.</span><span class=\"n\">Qubit</span><span class=\"p\">,</span> <span class=\"n\">theta</span><span class=\"p\">:</span> <span class=\"nb\">float</span><span class=\"p\">):</span>\n",
       "    <span class=\"n\">u</span><span class=\"p\">(</span><span class=\"n\">q</span><span class=\"p\">,</span> <span class=\"n\">np</span><span class=\"o\">.</span><span class=\"n\">pi</span><span class=\"p\">,</span> <span class=\"n\">theta</span> <span class=\"o\">/</span> <span class=\"mi\">2</span> <span class=\"o\">+</span> <span class=\"n\">np</span><span class=\"o\">.</span><span class=\"n\">pi</span><span class=\"p\">,</span> <span class=\"n\">np</span><span class=\"o\">.</span><span class=\"n\">pi</span><span class=\"p\">)</span>\n",
       "\n",
       "\n",
       "<span class=\"nd\">@aq</span><span class=\"o\">.</span><span class=\"n\">gate</span>\n",
       "<span class=\"k\">def</span> <span class=\"nf\">cnot</span><span class=\"p\">(</span><span class=\"n\">q0</span><span class=\"p\">:</span> <span class=\"n\">aq</span><span class=\"o\">.</span><span class=\"n\">Qubit</span><span class=\"p\">,</span> <span class=\"n\">q1</span><span class=\"p\">:</span> <span class=\"n\">aq</span><span class=\"o\">.</span><span class=\"n\">Qubit</span><span class=\"p\">):</span>\n",
       "    <span class=\"n\">ry</span><span class=\"p\">(</span><span class=\"n\">q0</span><span class=\"p\">,</span> <span class=\"n\">np</span><span class=\"o\">.</span><span class=\"n\">pi</span> <span class=\"o\">/</span> <span class=\"mi\">2</span><span class=\"p\">)</span>\n",
       "    <span class=\"n\">ms</span><span class=\"p\">(</span><span class=\"n\">q0</span><span class=\"p\">,</span> <span class=\"n\">q1</span><span class=\"p\">,</span> <span class=\"mi\">0</span><span class=\"p\">,</span> <span class=\"mi\">0</span><span class=\"p\">,</span> <span class=\"n\">np</span><span class=\"o\">.</span><span class=\"n\">pi</span> <span class=\"o\">/</span> <span class=\"mi\">2</span><span class=\"p\">)</span>\n",
       "    <span class=\"n\">rx</span><span class=\"p\">(</span><span class=\"n\">q0</span><span class=\"p\">,</span> <span class=\"o\">-</span><span class=\"n\">np</span><span class=\"o\">.</span><span class=\"n\">pi</span> <span class=\"o\">/</span> <span class=\"mi\">2</span><span class=\"p\">)</span>\n",
       "    <span class=\"n\">rx</span><span class=\"p\">(</span><span class=\"n\">q1</span><span class=\"p\">,</span> <span class=\"o\">-</span><span class=\"n\">np</span><span class=\"o\">.</span><span class=\"n\">pi</span> <span class=\"o\">/</span> <span class=\"mi\">2</span><span class=\"p\">)</span>\n",
       "    <span class=\"n\">ry</span><span class=\"p\">(</span><span class=\"n\">q0</span><span class=\"p\">,</span> <span class=\"o\">-</span><span class=\"n\">np</span><span class=\"o\">.</span><span class=\"n\">pi</span> <span class=\"o\">/</span> <span class=\"mi\">2</span><span class=\"p\">)</span>\n",
       "</pre></div>\n"
      ],
      "text/latex": [
       "\\begin{Verbatim}[commandchars=\\\\\\{\\}]\n",
       "\\PY{k+kn}{import} \\PY{n+nn}{numpy} \\PY{k}{as} \\PY{n+nn}{np}\n",
       "\n",
       "\\PY{k+kn}{import} \\PY{n+nn}{braket}\\PY{n+nn}{.}\\PY{n+nn}{experimental}\\PY{n+nn}{.}\\PY{n+nn}{autoqasm} \\PY{k}{as} \\PY{n+nn}{aq}\n",
       "\\PY{k+kn}{from} \\PY{n+nn}{braket}\\PY{n+nn}{.}\\PY{n+nn}{experimental}\\PY{n+nn}{.}\\PY{n+nn}{autoqasm}\\PY{n+nn}{.}\\PY{n+nn}{instructions} \\PY{k+kn}{import} \\PY{n}{gpi}\\PY{p}{,} \\PY{n}{gpi2}\\PY{p}{,} \\PY{n}{ms}\n",
       "\n",
       "\n",
       "\\PY{n+nd}{@aq}\\PY{o}{.}\\PY{n}{gate}\n",
       "\\PY{k}{def} \\PY{n+nf}{h}\\PY{p}{(}\\PY{n}{q}\\PY{p}{:} \\PY{n}{aq}\\PY{o}{.}\\PY{n}{Qubit}\\PY{p}{)}\\PY{p}{:}\n",
       "    \\PY{n}{gpi2}\\PY{p}{(}\\PY{n}{q}\\PY{p}{,} \\PY{n}{np}\\PY{o}{.}\\PY{n}{pi} \\PY{o}{/} \\PY{l+m+mi}{2}\\PY{p}{)}\n",
       "    \\PY{n}{gpi}\\PY{p}{(}\\PY{n}{q}\\PY{p}{,} \\PY{l+m+mi}{0}\\PY{p}{)}\n",
       "\n",
       "\n",
       "\\PY{n+nd}{@aq}\\PY{o}{.}\\PY{n}{gate}\n",
       "\\PY{k}{def} \\PY{n+nf}{u}\\PY{p}{(}\\PY{n}{q}\\PY{p}{:} \\PY{n}{aq}\\PY{o}{.}\\PY{n}{Qubit}\\PY{p}{,} \\PY{n}{a}\\PY{p}{:} \\PY{n+nb}{float}\\PY{p}{,} \\PY{n}{b}\\PY{p}{:} \\PY{n+nb}{float}\\PY{p}{,} \\PY{n}{c}\\PY{p}{:} \\PY{n+nb}{float}\\PY{p}{)}\\PY{p}{:}\n",
       "    \\PY{n}{gpi2}\\PY{p}{(}\\PY{n}{q}\\PY{p}{,} \\PY{n}{a}\\PY{p}{)}\n",
       "    \\PY{n}{gpi}\\PY{p}{(}\\PY{n}{q}\\PY{p}{,} \\PY{n}{b}\\PY{p}{)}\n",
       "    \\PY{n}{gpi2}\\PY{p}{(}\\PY{n}{q}\\PY{p}{,} \\PY{n}{c}\\PY{p}{)}\n",
       "\n",
       "\n",
       "\\PY{n+nd}{@aq}\\PY{o}{.}\\PY{n}{gate}\n",
       "\\PY{k}{def} \\PY{n+nf}{rx}\\PY{p}{(}\\PY{n}{q}\\PY{p}{:} \\PY{n}{aq}\\PY{o}{.}\\PY{n}{Qubit}\\PY{p}{,} \\PY{n}{theta}\\PY{p}{:} \\PY{n+nb}{float}\\PY{p}{)}\\PY{p}{:}\n",
       "    \\PY{n}{u}\\PY{p}{(}\\PY{n}{q}\\PY{p}{,} \\PY{n}{np}\\PY{o}{.}\\PY{n}{pi} \\PY{o}{/} \\PY{l+m+mi}{2}\\PY{p}{,} \\PY{n}{theta} \\PY{o}{/} \\PY{l+m+mi}{2} \\PY{o}{+} \\PY{n}{np}\\PY{o}{.}\\PY{n}{pi} \\PY{o}{/} \\PY{l+m+mi}{2}\\PY{p}{,} \\PY{n}{np}\\PY{o}{.}\\PY{n}{pi} \\PY{o}{/} \\PY{l+m+mi}{2}\\PY{p}{)}\n",
       "\n",
       "\n",
       "\\PY{n+nd}{@aq}\\PY{o}{.}\\PY{n}{gate}\n",
       "\\PY{k}{def} \\PY{n+nf}{ry}\\PY{p}{(}\\PY{n}{q}\\PY{p}{:} \\PY{n}{aq}\\PY{o}{.}\\PY{n}{Qubit}\\PY{p}{,} \\PY{n}{theta}\\PY{p}{:} \\PY{n+nb}{float}\\PY{p}{)}\\PY{p}{:}\n",
       "    \\PY{n}{u}\\PY{p}{(}\\PY{n}{q}\\PY{p}{,} \\PY{n}{np}\\PY{o}{.}\\PY{n}{pi}\\PY{p}{,} \\PY{n}{theta} \\PY{o}{/} \\PY{l+m+mi}{2} \\PY{o}{+} \\PY{n}{np}\\PY{o}{.}\\PY{n}{pi}\\PY{p}{,} \\PY{n}{np}\\PY{o}{.}\\PY{n}{pi}\\PY{p}{)}\n",
       "\n",
       "\n",
       "\\PY{n+nd}{@aq}\\PY{o}{.}\\PY{n}{gate}\n",
       "\\PY{k}{def} \\PY{n+nf}{cnot}\\PY{p}{(}\\PY{n}{q0}\\PY{p}{:} \\PY{n}{aq}\\PY{o}{.}\\PY{n}{Qubit}\\PY{p}{,} \\PY{n}{q1}\\PY{p}{:} \\PY{n}{aq}\\PY{o}{.}\\PY{n}{Qubit}\\PY{p}{)}\\PY{p}{:}\n",
       "    \\PY{n}{ry}\\PY{p}{(}\\PY{n}{q0}\\PY{p}{,} \\PY{n}{np}\\PY{o}{.}\\PY{n}{pi} \\PY{o}{/} \\PY{l+m+mi}{2}\\PY{p}{)}\n",
       "    \\PY{n}{ms}\\PY{p}{(}\\PY{n}{q0}\\PY{p}{,} \\PY{n}{q1}\\PY{p}{,} \\PY{l+m+mi}{0}\\PY{p}{,} \\PY{l+m+mi}{0}\\PY{p}{,} \\PY{n}{np}\\PY{o}{.}\\PY{n}{pi} \\PY{o}{/} \\PY{l+m+mi}{2}\\PY{p}{)}\n",
       "    \\PY{n}{rx}\\PY{p}{(}\\PY{n}{q0}\\PY{p}{,} \\PY{o}{\\PYZhy{}}\\PY{n}{np}\\PY{o}{.}\\PY{n}{pi} \\PY{o}{/} \\PY{l+m+mi}{2}\\PY{p}{)}\n",
       "    \\PY{n}{rx}\\PY{p}{(}\\PY{n}{q1}\\PY{p}{,} \\PY{o}{\\PYZhy{}}\\PY{n}{np}\\PY{o}{.}\\PY{n}{pi} \\PY{o}{/} \\PY{l+m+mi}{2}\\PY{p}{)}\n",
       "    \\PY{n}{ry}\\PY{p}{(}\\PY{n}{q0}\\PY{p}{,} \\PY{o}{\\PYZhy{}}\\PY{n}{np}\\PY{o}{.}\\PY{n}{pi} \\PY{o}{/} \\PY{l+m+mi}{2}\\PY{p}{)}\n",
       "\\end{Verbatim}\n"
      ],
      "text/plain": [
       "import numpy as np\n",
       "\n",
       "import braket.experimental.autoqasm as aq\n",
       "from braket.experimental.autoqasm.instructions import gpi, gpi2, ms\n",
       "\n",
       "\n",
       "@aq.gate\n",
       "def h(q: aq.Qubit):\n",
       "    gpi2(q, np.pi / 2)\n",
       "    gpi(q, 0)\n",
       "\n",
       "\n",
       "@aq.gate\n",
       "def u(q: aq.Qubit, a: float, b: float, c: float):\n",
       "    gpi2(q, a)\n",
       "    gpi(q, b)\n",
       "    gpi2(q, c)\n",
       "\n",
       "\n",
       "@aq.gate\n",
       "def rx(q: aq.Qubit, theta: float):\n",
       "    u(q, np.pi / 2, theta / 2 + np.pi / 2, np.pi / 2)\n",
       "\n",
       "\n",
       "@aq.gate\n",
       "def ry(q: aq.Qubit, theta: float):\n",
       "    u(q, np.pi, theta / 2 + np.pi, np.pi)\n",
       "\n",
       "\n",
       "@aq.gate\n",
       "def cnot(q0: aq.Qubit, q1: aq.Qubit):\n",
       "    ry(q0, np.pi / 2)\n",
       "    ms(q0, q1, 0, 0, np.pi / 2)\n",
       "    rx(q0, -np.pi / 2)\n",
       "    rx(q1, -np.pi / 2)\n",
       "    ry(q0, -np.pi / 2)"
      ]
     },
     "execution_count": 5,
     "metadata": {},
     "output_type": "execute_result"
    }
   ],
   "source": [
    "IPython.display.Code(filename=\"ionq_gates.py\")"
   ]
  },
  {
   "cell_type": "markdown",
   "id": "5ef522c8",
   "metadata": {},
   "source": [
    "We can now use these definitions of the `h` and `cnot` gates in our device-targeted program."
   ]
  },
  {
   "cell_type": "code",
   "execution_count": 6,
   "id": "366c4035",
   "metadata": {},
   "outputs": [
    {
     "name": "stdout",
     "output_type": "stream",
     "text": [
      "OPENQASM 3.0;\n",
      "gate h q {\n",
      "    gpi2(1.5707963267948966) q;\n",
      "    gpi(0) q;\n",
      "}\n",
      "gate u(a, b, c) q {\n",
      "    gpi2(a) q;\n",
      "    gpi(b) q;\n",
      "    gpi2(c) q;\n",
      "}\n",
      "gate ry(theta) q {\n",
      "    u(3.141592653589793, theta / 2 + 3.141592653589793, 3.141592653589793) q;\n",
      "}\n",
      "gate rx(theta) q {\n",
      "    u(1.5707963267948966, theta / 2 + 1.5707963267948966, 1.5707963267948966) q;\n",
      "}\n",
      "gate cnot q0, q1 {\n",
      "    ry(1.5707963267948966) q0;\n",
      "    ms(0, 0, 1.5707963267948966) q0, q1;\n",
      "    rx(-1.5707963267948966) q0;\n",
      "    rx(-1.5707963267948966) q1;\n",
      "    ry(-1.5707963267948966) q0;\n",
      "}\n",
      "output bit[2] return_value;\n",
      "pragma braket verbatim\n",
      "box {\n",
      "    h $0;\n",
      "    cnot $0, $1;\n",
      "}\n",
      "bit[2] __bit_0__ = \"00\";\n",
      "__bit_0__[0] = measure $0;\n",
      "__bit_0__[1] = measure $1;\n",
      "return_value = __bit_0__;\n"
     ]
    }
   ],
   "source": [
    "from ionq_gates import h, cnot\n",
    "\n",
    "\n",
    "@aq.main\n",
    "def bell_state():\n",
    "    with aq.verbatim():\n",
    "        h(\"$0\")\n",
    "        cnot(\"$0\", \"$1\")\n",
    "    return measure([\"$0\", \"$1\"])\n",
    "\n",
    "\n",
    "print(bell_state.build(device=Devices.IonQ.Aria1).to_ir())"
   ]
  },
  {
   "cell_type": "markdown",
   "id": "ba0be720",
   "metadata": {},
   "source": [
    "The device-specific validation now passes, and the program is successfully built. We can see that the generated OpenQASM program contains `gate` definitions for `h`, `u`, `ry`, `rx`, and `cnot`, which correspond to the `@aq.gate` definitions in `ionq_gates.py`."
   ]
  },
  {
   "cell_type": "markdown",
   "id": "fa2c2c9e",
   "metadata": {},
   "source": [
    "## Summary\n",
    "\n",
    "In this notebook, we demonstrated several aspects of native programming using a two-qubit example program. We showed how to modify a program to use physical qubits instead of virtual qubits. We introduced the usage of `verbatim` blocks via the `aq.verbatim()` context, and we demonstrated the device-specific targeting functionality provided by AutoQASM. Finally, we demonstrated the definition of custom gates using the `@aq.gate` decorator, and we used these gate definitions to implement our example program purely in terms of the native gates of the target device."
   ]
  }
 ],
 "metadata": {
  "kernelspec": {
   "display_name": "Python 3 (ipykernel)",
   "language": "python",
   "name": "python3"
  },
  "language_info": {
   "codemirror_mode": {
    "name": "ipython",
    "version": 3
   },
   "file_extension": ".py",
   "mimetype": "text/x-python",
   "name": "python",
   "nbconvert_exporter": "python",
   "pygments_lexer": "ipython3",
   "version": "3.9.18"
  }
 },
 "nbformat": 4,
 "nbformat_minor": 5
}
