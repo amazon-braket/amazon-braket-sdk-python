{
 "cells": [
  {
   "cell_type": "markdown",
   "id": "8e867f9e",
   "metadata": {},
   "source": [
    "# Pulse programming and dynamical decoupling"
   ]
  },
  {
   "cell_type": "markdown",
   "id": "e9543db0",
   "metadata": {},
   "source": [
    "Native gates are a set of carefully calibrated gates directly supported by the hardware. Behind the scenes, native gates themselves are implemented by analog control signals, or \"pulses\", applied to the state of the qubits. Composing a program directly with pulse operations is called \"pulse programming\", giving you even more control than native gates. For example, you can implement quantum operations directly with pulses in order to implement error suppression schemes such as dynamical decoupling, or error mitigation methods such as zero noise extrapolation. You can also improve the elementary operations by experimenting with novel custom gate implementations.\n",
    "\n",
    "In this notebook, we demonstrate the pulse programming features of AutoQASM with two examples, one with a qubit idling program and one with dynamical decoupling which suppresses the error from qubit idling. These examples are taken from [this blog post](https://aws.amazon.com/blogs/quantum-computing/suppressing-errors-with-dynamical-decoupling-using-pulse-control-on-amazon-braket/) which composes programs using Amazon Braket SDK. This notebook shows you the examples in AutoQASM which provides an integrated experience of composing gate and pulse instructions."
   ]
  },
  {
   "cell_type": "markdown",
   "id": "2eeb58e3",
   "metadata": {},
   "source": [
    "We start with basic imports, and initialize the Rigetti Aspen-M-3 device which is the targeted device for this example notebook."
   ]
  },
  {
   "cell_type": "code",
   "execution_count": 1,
   "id": "e0504f72",
   "metadata": {},
   "outputs": [],
   "source": [
    "import numpy as np\n",
    "\n",
    "import braket.experimental.autoqasm as aq\n",
    "from braket.experimental.autoqasm import pulse\n",
    "from braket.experimental.autoqasm.instructions import rx, rz\n",
    "\n",
    "from braket.aws import AwsDevice\n",
    "from braket.devices import Devices\n",
    "\n",
    "device = AwsDevice(Devices.Rigetti.AspenM3)"
   ]
  },
  {
   "cell_type": "markdown",
   "id": "590f013f",
   "metadata": {},
   "source": [
    "Unlike gate operations, pulse operations often target Frame objects instead of qubits. Basic pulse operations include setting the frequency and phase of a frame, playing a waveform, applying a delay, and capturing the output of a frame. The pulse operations are defined in the [pulse module](https://github.com/amazon-braket/amazon-braket-sdk-python/blob/feature/autoqasm/src/braket/experimental/autoqasm/pulse/pulse.py) of AutoQASM. You can read this [documentation](https://docs.aws.amazon.com/braket/latest/developerguide/braket-pulse.html) to learn more about frames and waveforms. The examples below are provided under the assumption that the reader is familiar with the analog aspect of a quantum hardware."
   ]
  },
  {
   "cell_type": "markdown",
   "id": "ce6b5cb2",
   "metadata": {},
   "source": [
    "## Customize delay with pulse programming\n",
    "As a hello-world example, the pulse program below includes a `delay` instruction on the frame of the physical qubit `$0` followed by a capture instruction on the same frame. The pulse program represents measuring a qubit after a variable idling duration. It can be used quantify the decoherence of a qubit by comparing the measured state and the initial state after certain idling duration."
   ]
  },
  {
   "cell_type": "code",
   "execution_count": 2,
   "id": "8ebd3454",
   "metadata": {},
   "outputs": [],
   "source": [
    "qubit = 0\n",
    "idle_duration = 10e-6\n",
    "\n",
    "@aq.main\n",
    "def idle():\n",
    "    control_frame = device.frames[f\"q{qubit}_rf_frame\"]\n",
    "    pulse.delay(control_frame, idle_duration)\n",
    "    pulse.capture_v0(control_frame)"
   ]
  },
  {
   "cell_type": "markdown",
   "id": "eeee0f33",
   "metadata": {},
   "source": [
    "Below we print out the OpenQASM script of the program. The pulse instructions, delay and capture, are in a `cal` block, which stands for \"calibration\". In OpenQASM, \"calibration-level\" instructions are low-level hardware instructions that can implement higher-level instructions such as gates. A `cal` block therefore defines the scope of these low-level hardware instructions, which are pulse instructions in this example."
   ]
  },
  {
   "cell_type": "code",
   "execution_count": 3,
   "id": "3e76fdca",
   "metadata": {},
   "outputs": [
    {
     "name": "stdout",
     "output_type": "stream",
     "text": [
      "OPENQASM 3.0;\n",
      "bit __bit_0__;\n",
      "cal {\n",
      "    delay[10.0us] q0_rf_frame;\n",
      "    __bit_0__ = capture_v0(q0_rf_frame);\n",
      "}\n"
     ]
    }
   ],
   "source": [
    "print(idle.to_ir())"
   ]
  },
  {
   "cell_type": "markdown",
   "id": "098bcda5",
   "metadata": {},
   "source": [
    "This example demonstrates how to create a program with only pulse instructions. In the next example, we show that you can compose both gate and pulse instructions in the same `@aq.main` scope. This increases the flexiblity in choosing the right level of abstraction for different parts of the same program."
   ]
  },
  {
   "cell_type": "markdown",
   "id": "2b55c594",
   "metadata": {},
   "source": [
    "## Error suppression with dynamical decoupling sequences"
   ]
  },
  {
   "cell_type": "markdown",
   "id": "05d92b91",
   "metadata": {},
   "source": [
    "In the `idle` program above, we intentionally add a delay instruction to the program to make the qubit idle. In general, qubit idling is inevitable. For instance, if an instruction applies to multiple qubits, it will execute only when all of its qubits are available. Some qubits may idle while the other qubits are still undergoing other instructions. During this idling time, the qubits are subject to decoherence, resulting in low program fidelity. Dynamical decoupling is a technique to suppress such errors. It includes alternating pairs of X and Y \"$\\pi$ pulse\", a rotation around the Bloch sphere axis with an angle $\\pi$, on the qubits while they idle. These pulses together are equivalent to an identity gate, but alternating \"$\\pi$ pulses\" cause some of the decoherence to effectively cancel out. To learn more about dynamical decoupling, [this blog post](https://aws.amazon.com/blogs/quantum-computing/suppressing-errors-with-dynamical-decoupling-using-pulse-control-on-amazon-braket/) has a detailed explanations and visualization of dynamical decoupling sequences."
   ]
  },
  {
   "cell_type": "markdown",
   "id": "814647c1",
   "metadata": {},
   "source": [
    "First, we create the X and Y $\\pi$ pulse in terms of the native gates of Rigetti Aspen-M-3 device. "
   ]
  },
  {
   "cell_type": "code",
   "execution_count": 4,
   "id": "9130f6b8",
   "metadata": {},
   "outputs": [],
   "source": [
    "pi = np.pi\n",
    "\n",
    "def x_pulse(qubit: int):\n",
    "    # Pi pulse apply on X-axis of Bloch sphere\n",
    "    qubit = f\"${qubit}\"\n",
    "    rx(qubit, pi)\n",
    "\n",
    "def y_pulse(qubit: int):\n",
    "    # Pi pulse apply on Y-axis of Bloch sphere\n",
    "    qubit = f\"${qubit}\"\n",
    "    rz(qubit, -0.5 * pi)\n",
    "    rx(qubit, pi)\n",
    "    rz(qubit, +0.5 * pi)"
   ]
  },
  {
   "cell_type": "markdown",
   "id": "ffb0e2d1",
   "metadata": {},
   "source": [
    "Each cycle of a dynamical decoupling is a sequence of X-Y-X-Y pulses, and each of the four pulses are equally distributed in a cycle. For example, if the idling duration assigned to a cycle is $8\\tau$, each pulse is assigned to the middle of each $2\\tau$ duration. The resulting pulse distribution of a dynamical decoupling cycle is shown in the figure below.\n",
    "\n",
    "<img src=\"https://d2908q01vomqb2.cloudfront.net/5a5b0f9b7d3f8fc84c3cef8fd8efaaa6c70d75ab/2022/11/29/coldquanta_pulse_blog_pulses-2-1024x489.png\" width=\"500\">\n",
    "\n",
    "The program below realizes this pattern of the dynamical decoupling sequence. The sequence is shown as a standalone program, but the same sequence can be inserted into any program that has idling qubits."
   ]
  },
  {
   "cell_type": "code",
   "execution_count": 5,
   "id": "464ee2ed",
   "metadata": {},
   "outputs": [],
   "source": [
    "qubit = 0\n",
    "idle_duration = 10e-6\n",
    "n_cycles = 3\n",
    "\n",
    "@aq.main\n",
    "def idle_with_dd():\n",
    "    dd_spacing = idle_duration / (4*n_cycles)\n",
    "\n",
    "    control_frame = device.frames[f\"q{qubit}_rf_frame\"]\n",
    "    \n",
    "    pulse.delay(control_frame, dd_spacing)\n",
    "    for _ in aq.range(n_cycles):\n",
    "        x_pulse(qubit)\n",
    "        pulse.delay(control_frame, 2*dd_spacing)\n",
    "        y_pulse(qubit)\n",
    "        pulse.delay(control_frame, 2*dd_spacing)\n",
    "        x_pulse(qubit)\n",
    "        pulse.delay(control_frame, 2*dd_spacing)\n",
    "        y_pulse(qubit)\n",
    "        \n",
    "    pulse.delay(control_frame, dd_spacing)"
   ]
  },
  {
   "cell_type": "markdown",
   "id": "8853db5e",
   "metadata": {},
   "source": [
    "The OpenQASM script of the dynamical decoupling program is printed out below. "
   ]
  },
  {
   "cell_type": "code",
   "execution_count": 6,
   "id": "e117caf0",
   "metadata": {},
   "outputs": [
    {
     "name": "stdout",
     "output_type": "stream",
     "text": [
      "OPENQASM 3.0;\n",
      "cal {\n",
      "    delay[833.333333333333ns] q0_rf_frame;\n",
      "}\n",
      "for int _ in [0:3 - 1] {\n",
      "    rx(3.141592653589793) $0;\n",
      "    cal {\n",
      "        delay[1.666666666667us] q0_rf_frame;\n",
      "    }\n",
      "    rz(-1.5707963267948966) $0;\n",
      "    rx(3.141592653589793) $0;\n",
      "    rz(1.5707963267948966) $0;\n",
      "    cal {\n",
      "        delay[1.666666666667us] q0_rf_frame;\n",
      "    }\n",
      "    rx(3.141592653589793) $0;\n",
      "    cal {\n",
      "        delay[1.666666666667us] q0_rf_frame;\n",
      "    }\n",
      "    rz(-1.5707963267948966) $0;\n",
      "    rx(3.141592653589793) $0;\n",
      "    rz(1.5707963267948966) $0;\n",
      "}\n",
      "cal {\n",
      "    delay[833.333333333333ns] q0_rf_frame;\n",
      "}\n"
     ]
    }
   ],
   "source": [
    "print(idle_with_dd.to_ir())"
   ]
  },
  {
   "cell_type": "markdown",
   "id": "dab285b5",
   "metadata": {},
   "source": [
    "## Summary\n",
    "This example shows you how to use pulse programming to create a program. Just as with a gate-based program, a pulse program in AutoQASM is composed in a function decorated by `@aq.main`. With AutoQASM, the pulse instructions are automatically added to `cal` blocks in OpenQASM script, and gate and pulse instructions can be used side-by-side within the same scope of the AutoQASM program."
   ]
  }
 ],
 "metadata": {
  "kernelspec": {
   "display_name": "Python 3 (ipykernel)",
   "language": "python",
   "name": "python3"
  },
  "language_info": {
   "codemirror_mode": {
    "name": "ipython",
    "version": 3
   },
   "file_extension": ".py",
   "mimetype": "text/x-python",
   "name": "python",
   "nbconvert_exporter": "python",
   "pygments_lexer": "ipython3",
   "version": "3.10.9"
  }
 },
 "nbformat": 4,
 "nbformat_minor": 5
}
