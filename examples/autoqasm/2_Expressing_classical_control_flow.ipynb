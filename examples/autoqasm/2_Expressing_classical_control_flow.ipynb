{
 "cells": [
  {
   "cell_type": "markdown",
   "id": "135014b8",
   "metadata": {},
   "source": [
    "# Expressing classical control flow in quantum programs\n",
    "In the getting-started notebook, you learn how to compose a basic quantum program with only quantum gates. A quantum program should also be able to express classical control flow, such as if-else branches, for-loops and subroutines. With AutoQASM, you write control flow the same way you would do in a Python program. The Pythonic experience in expressing classical control flow makes the quantum programs more readable, and makes it easier to build more complex programs.\n",
    "\n"
   ]
  },
  {
   "cell_type": "code",
   "execution_count": 1,
   "id": "15cdfaee",
   "metadata": {},
   "outputs": [],
   "source": [
    "# general imports\n",
    "from collections import Counter\n",
    "import matplotlib.pyplot as plt\n",
    "\n",
    "# AWS imports: Import Braket SDK modules\n",
    "from braket.devices.local_simulator import LocalSimulator\n",
    "import braket.experimental.autoqasm as aq\n",
    "from braket.experimental.autoqasm.instructions import measure, h, cnot"
   ]
  },
  {
   "cell_type": "markdown",
   "id": "2cccd8c2",
   "metadata": {},
   "source": [
    "## Subroutine\n",
    "When your quantum program uses the same logic multiple times, subroutines can be a helpful tool. With subroutines, you can generate a more efficient program representation. Your programs become easier to read and reason about, and less work to maintain.\n",
    "\n",
    "As an example, we want to prepare two Bell states, each on different qubit pair. Because the gates to prepare Bell states are the same, we can implement them as a subroutine. Similar to a quantum program, a subroutine is marked by the `@aq.subroutine` decorator. Any number of functions in your program can be marked as a quantum program with this decorator, and they can call one another. Here, we define the Bell state preparation as a subroutine."
   ]
  },
  {
   "cell_type": "code",
   "execution_count": 2,
   "id": "6e012372",
   "metadata": {},
   "outputs": [],
   "source": [
    "@aq.subroutine\n",
    "def bell(q0: int, q1: int) -> None:\n",
    "    h(q0)\n",
    "    cnot(q0, q1)"
   ]
  },
  {
   "cell_type": "markdown",
   "id": "e2a884e6",
   "metadata": {},
   "source": [
    "In `two_bell`, the subroutine is called twice to prepare Bell states on different qubit pairs."
   ]
  },
  {
   "cell_type": "code",
   "execution_count": 3,
   "id": "c268be19",
   "metadata": {},
   "outputs": [
    {
     "name": "stdout",
     "output_type": "stream",
     "text": [
      "OPENQASM 3.0;\n",
      "def bell(int[32] q0, int[32] q1) {\n",
      "    h __qubits__[q0];\n",
      "    cnot __qubits__[q0], __qubits__[q1];\n",
      "}\n",
      "qubit[4] __qubits__;\n",
      "bell(0, 1);\n",
      "bell(2, 3);\n"
     ]
    }
   ],
   "source": [
    "@aq.main(num_qubits=4)\n",
    "def two_bell() -> None:\n",
    "    bell(0, 1)\n",
    "    bell(2, 3)\n",
    "\n",
    "\n",
    "print(two_bell.to_ir())"
   ]
  },
  {
   "cell_type": "markdown",
   "id": "c6c59f55",
   "metadata": {},
   "source": [
    "With classical control flow, sometimes the number of qubits used could be undetermined before the execution time (i.e., when program is executed on a QPU or a simulator). Therefore, AutoQASM does not know how many qubits the program may need. In cases like subroutine and using variables as qubit indices, we must define the qubit count using the keyword argument `num_qubits` in `@aq.main`."
   ]
  },
  {
   "cell_type": "markdown",
   "id": "1e86b3d5",
   "metadata": {},
   "source": [
    "## If-else logic branch"
   ]
  },
  {
   "cell_type": "markdown",
   "id": "bf201c13",
   "metadata": {},
   "source": [
    "In this example, we demonstrate if-else logic. We use a Bell state again, but this time we prepare the state on a dynamically determined qubit pair. We measure qubit `0` and apply the Bell state preparation onto qubits `1` and `2` if the result is `1` or else `3` and `4` if the result is `0`. Finally, we measure all five qubits."
   ]
  },
  {
   "cell_type": "code",
   "execution_count": 4,
   "id": "850bb524",
   "metadata": {},
   "outputs": [],
   "source": [
    "@aq.main(num_qubits=5)\n",
    "def conditioned_bell() -> None:\n",
    "    h(0)\n",
    "    if measure(0):\n",
    "        bell(1, 2)\n",
    "    else:\n",
    "        bell(3, 4)\n",
    "\n",
    "    return measure([0, 1, 2, 3, 4])\n"
   ]
  },
  {
   "cell_type": "markdown",
   "id": "db483f0e",
   "metadata": {},
   "source": [
    "Let's run the quantum program on the Braket simulator."
   ]
  },
  {
   "cell_type": "code",
   "execution_count": 5,
   "id": "c6603968",
   "metadata": {},
   "outputs": [
    {
     "name": "stdout",
     "output_type": "stream",
     "text": [
      "measurement counts:  Counter({'00000': 137, '10000': 129, '00011': 119, '11100': 115})\n"
     ]
    },
    {
     "data": {
      "image/png": "[encoded data removed]",
      "text/plain": [
       "<Figure size 640x480 with 1 Axes>"
      ]
     },
     "metadata": {},
     "output_type": "display_data"
    }
   ],
   "source": [
    "device = LocalSimulator()\n",
    "result = device.run(conditioned_bell, shots=500).result()\n",
    "counts = Counter(result.measurements[\"return_value\"])\n",
    "print(\"measurement counts: \", counts)\n",
    "\n",
    "plt.bar(counts.keys(), counts.values())\n",
    "plt.xlabel(\"bitstrings\")\n",
    "plt.ylabel(\"counts\")\n",
    "plt.show()"
   ]
  },
  {
   "cell_type": "markdown",
   "id": "c1ded7b8",
   "metadata": {},
   "source": [
    "The simulator result shows that the Bell state is prepared on the qubit pair (1, 2) when the 0th (leftmost) qubit is measured as 1, resulting in measured bitstrings '10000' and '11100'. Otherwise, the Bell state is prepared on the qubit pair (3, 4), resulting in measured bitstrings '00000' and '00011'."
   ]
  },
  {
   "cell_type": "markdown",
   "id": "edee6e9c",
   "metadata": {},
   "source": [
    "## For-loop"
   ]
  },
  {
   "cell_type": "markdown",
   "id": "ce1da10e",
   "metadata": {},
   "source": [
    "In this example, we demonstrate for-loop by creating many Bell states in a quantum program. Instead of writing the preparation steps explicitly, we can use a for-loop to make the program simpler and more readable. In the generated QASM script, you can see the code structure of for-loop is preserved."
   ]
  },
  {
   "cell_type": "code",
   "execution_count": 6,
   "id": "88403f29",
   "metadata": {},
   "outputs": [
    {
     "name": "stdout",
     "output_type": "stream",
     "text": [
      "OPENQASM 3.0;\n",
      "def bell(int[32] q0, int[32] q1) {\n",
      "    h __qubits__[q0];\n",
      "    cnot __qubits__[q0], __qubits__[q1];\n",
      "}\n",
      "qubit[6] __qubits__;\n",
      "for int i in [0:2:6 - 1] {\n",
      "    bell(i, i + 1);\n",
      "}\n"
     ]
    }
   ],
   "source": [
    "n_bell = 3\n",
    "\n",
    "\n",
    "@aq.main(num_qubits=n_bell * 2)\n",
    "def multiple_bell() -> None:\n",
    "    for i in aq.range(0, 2 * n_bell, 2):\n",
    "        bell(i, i + 1)\n",
    "\n",
    "\n",
    "print(multiple_bell.to_ir())"
   ]
  },
  {
   "cell_type": "markdown",
   "id": "9303a270",
   "metadata": {},
   "source": [
    "## Summary"
   ]
  },
  {
   "cell_type": "markdown",
   "id": "2619f38d",
   "metadata": {},
   "source": [
    "In this notebook, you have learned how do use AutoQASM to express classical control flow in your quantum program. AutoQASM not only enables writing program with real-time control flow based on measurement results, but also increases the readability by taking advantage of high level programming features such as for-loops and subroutines."
   ]
  }
 ],
 "metadata": {
  "kernelspec": {
   "display_name": "Python 3 (ipykernel)",
   "language": "python",
   "name": "python3"
  },
  "language_info": {
   "codemirror_mode": {
    "name": "ipython",
    "version": 3
   },
   "file_extension": ".py",
   "mimetype": "text/x-python",
   "name": "python",
   "nbconvert_exporter": "python",
   "pygments_lexer": "ipython3",
   "version": "3.11.4"
  }
 },
 "nbformat": 4,
 "nbformat_minor": 5
}
