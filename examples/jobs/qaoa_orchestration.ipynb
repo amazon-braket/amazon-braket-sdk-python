{
 "cells": [
  {
   "cell_type": "code",
   "execution_count": 1,
   "id": "fcd7b103",
   "metadata": {},
   "outputs": [],
   "source": [
    "import tempfile\n",
    "import time\n",
    "import networkx as nx\n",
    "import numpy as np\n",
    "\n",
    "from braket.aws import AwsQuantumJob, AwsSession\n",
    "\n",
    "from braket.jobs.config import (\n",
    "    DataSource,\n",
    "    InputDataConfig,\n",
    "    InstanceConfig,\n",
    "    OutputDataConfig,\n",
    "    S3DataSource,\n",
    "    StoppingCondition\n",
    ")\n",
    "from braket.jobs.image_uris import Framework, retrieve_image"
   ]
  },
  {
   "cell_type": "code",
   "execution_count": 2,
   "id": "4e3f5a06",
   "metadata": {},
   "outputs": [
    {
     "data": {
      "image/png": "[encoded data removed]",
      "text/plain": [
       "<Figure size 432x288 with 1 Axes>"
      ]
     },
     "metadata": {},
     "output_type": "display_data"
    }
   ],
   "source": [
    "# We generate a random graph with num_nodes nodes and num_edges edges to run Max Cut on.\n",
    "# num_nodes is the number of qubits, so each circuit will have runtime exponential in num_nodes\n",
    "num_nodes = 6\n",
    "num_edges = 8\n",
    "seed = 1967\n",
    "    \n",
    "graph = nx.gnm_random_graph(num_nodes, num_edges, seed=seed)\n",
    "\n",
    "# Draw the graph\n",
    "positions = nx.spring_layout(graph, seed=seed)\n",
    "nx.draw(graph, with_labels=True, pos=positions, node_size=600)"
   ]
  },
  {
   "cell_type": "code",
   "execution_count": 3,
   "id": "40cf56e9",
   "metadata": {},
   "outputs": [],
   "source": [
    "# Pick 'autograd', 'tf', or 'torch'. Autograd is base PennyLane\n",
    "interface = \"autograd\"\n",
    "# Specify device that the job will primarily be targeting\n",
    "device_arn = \"arn:aws:braket:::device/quantum-simulator/amazon/sv1\"\n",
    "# Specify previous job arn to copy checkpoints from, or None to not copy checkpoints\n",
    "copy_checkpoints_from_job = None\n",
    "# copy_checkpoints_from_job = \"arn:aws:braket:<region>:<your-account-id>:job/<job-name>\"\n",
    "\n",
    "hyperparameters = {\n",
    "    # Number of tasks per iteration = 2 * (num_nodes + num_edges) * p + 1\n",
    "    \"p\": \"2\",\n",
    "    \"seed\": str(seed),\n",
    "    # Maximum number of simultaneous tasks allowed\n",
    "    \"max_parallel\": \"10\",\n",
    "    # Number of total optimization iterations, including those from previous checkpoint (if any)\n",
    "    \"num_iterations\": \"5\",\n",
    "    # Step size / learning rate for gradient descent\n",
    "    \"stepsize\": \"0.1\",\n",
    "    # Shots for each circuit execution\n",
    "    \"shots\": \"1000\",\n",
    "    \"interface\": interface,\n",
    "}\n",
    "if copy_checkpoints_from_job:\n",
    "    hyperparameters['copy_checkpoints_from_job'] = copy_checkpoints_from_job"
   ]
  },
  {
   "cell_type": "code",
   "execution_count": 4,
   "id": "9dfe8d71",
   "metadata": {},
   "outputs": [],
   "source": [
    "# Job data will be sent to this bucket by default,\n",
    "# unless output_data_config is specified in the next cell.\n",
    "aws_session = AwsSession()\n",
    "bucket = aws_session.default_bucket()\n",
    "print(bucket)"
   ]
  },
  {
   "cell_type": "code",
   "execution_count": 5,
   "id": "db4363f5",
   "metadata": {},
   "outputs": [],
   "source": [
    "# Other possible settings\n",
    "# Uncomment or edit to vary\n",
    "kwargs = {\n",
    "#     \"stopping_condition\": StoppingCondition(maxRuntimeInSeconds=5 * 24 * 60 * 60),\n",
    "#     \"output_data_config\": OutputDataConfig(s3Path=\"s3://amazon-braket-your-bucket-name/your-folder-name\"),\n",
    "#     \"instance_config\": InstanceConfig(instanceType=\"ml.m5.large\"),\n",
    "}"
   ]
  },
  {
   "cell_type": "code",
   "execution_count": 6,
   "id": "1203bd4e",
   "metadata": {},
   "outputs": [],
   "source": [
    "# Function to upload the graph to S3 in an adjacency list format\n",
    "def setup_input_stream():\n",
    "    with tempfile.NamedTemporaryFile() as temp_graph_file:\n",
    "        # define the uri for our input data stream\n",
    "        stream_s3_uri = aws_session.construct_s3_uri(\n",
    "            aws_session.default_bucket(),\n",
    "            \"input-graph\",\n",
    "        )\n",
    "        # Write graph to a temporary file\n",
    "        nx.write_adjlist(graph, temp_graph_file.name)\n",
    "        # Upload temporary file to S3\n",
    "        aws_session.upload_to_s3(temp_graph_file.name, f\"{stream_s3_uri}/input-data.adjlist\")\n",
    "    return stream_s3_uri"
   ]
  },
  {
   "cell_type": "code",
   "execution_count": 7,
   "id": "7e2285a5",
   "metadata": {},
   "outputs": [],
   "source": [
    "region = aws_session.region\n",
    "\n",
    "# Choose the container based on which one we need.\n",
    "if interface == 'autograd':\n",
    "    # Base container does not have PennyLane, so we have to use the TF or PyTorch container\n",
    "    image_uri = retrieve_image(Framework.PL_TENSORFLOW, region)\n",
    "elif interface == 'tf':\n",
    "    image_uri = retrieve_image(Framework.PL_TENSORFLOW, region)\n",
    "elif interface == 'torch':\n",
    "    image_uri = retrieve_image(Framework.PL_PYTORCH, region)"
   ]
  },
  {
   "cell_type": "code",
   "execution_count": 8,
   "id": "968e8381",
   "metadata": {},
   "outputs": [
    {
     "name": "stdout",
     "output_type": "stream",
     "text": [
      "arn:aws:braket:<region>:<account-id>:job/<job-name>\n",
      "INITIALIZED\n",
      "QUEUED\n",
      "RUNNING\n",
      "RUNNING\n",
      "RUNNING\n",
      "RUNNING\n",
      "RUNNING\n",
      "RUNNING\n",
      "RUNNING\n",
      "RUNNING\n",
      "RUNNING\n",
      "RUNNING\n",
      "RUNNING\n",
      "RUNNING\n",
      "RUNNING\n",
      "RUNNING\n",
      "RUNNING\n",
      "RUNNING\n",
      "RUNNING\n",
      "RUNNING\n",
      "RUNNING\n",
      "RUNNING\n",
      "RUNNING\n",
      "RUNNING\n",
      "RUNNING\n",
      "RUNNING\n",
      "RUNNING\n",
      "RUNNING\n",
      "RUNNING\n",
      "RUNNING\n",
      "RUNNING\n",
      "RUNNING\n",
      "RUNNING\n",
      "RUNNING\n",
      "RUNNING\n",
      "RUNNING\n",
      "RUNNING\n",
      "RUNNING\n",
      "RUNNING\n",
      "RUNNING\n",
      "COMPLETED\n"
     ]
    }
   ],
   "source": [
    "start_time = time.time()\n",
    "\n",
    "job = AwsQuantumJob.create(\n",
    "    # Any unique name works. Note 50-character limit in job name\n",
    "    job_name=\"JobTest-\"+interface+\"-\"+str(int(time.time())),\n",
    "    image_uri=image_uri,\n",
    "    # Relative to the current location\n",
    "    entry_point=\"source_dir.qaoa_algorithm_script:start_here\",\n",
    "    device_arn=device_arn,\n",
    "    source_module=\"source_dir\",\n",
    "    copy_checkpoints_from_job=copy_checkpoints_from_job,\n",
    "    # general parameters\n",
    "    hyperparameters=hyperparameters,\n",
    "    input_data_config=[InputDataConfig(\n",
    "        channelName=\"input-graph\",\n",
    "        dataSource=DataSource(\n",
    "            s3DataSource=S3DataSource(\n",
    "                s3Uri=setup_input_stream(),\n",
    "            ),\n",
    "        ),\n",
    "    )],\n",
    "    # Uncomment the following to make this create() call wait for job completion\n",
    "    # If so, the CloudWatch logs will be printed to the console as well\n",
    "    # wait_until_complete=True,\n",
    "    **kwargs\n",
    ")\n",
    "\n",
    "print(job.arn)\n",
    "# Poll the job state asynchronously;\n",
    "# not necessary if wait_until_complete was set to True\n",
    "while job.state() not in AwsQuantumJob.TERMINAL_STATES:\n",
    "    print(job.state())\n",
    "    time.sleep(10)\n",
    "\n",
    "end_time = time.time()\n",
    "print(job.state())"
   ]
  },
  {
   "cell_type": "code",
   "execution_count": 9,
   "id": "2578e503",
   "metadata": {},
   "outputs": [
    {
     "name": "stdout",
     "output_type": "stream",
     "text": [
      "424.47294330596924\n"
     ]
    }
   ],
   "source": [
    "print(end_time - start_time)"
   ]
  },
  {
   "cell_type": "code",
   "execution_count": 10,
   "id": "e739d292",
   "metadata": {},
   "outputs": [],
   "source": [
    "print(job.metadata())"
   ]
  },
  {
   "cell_type": "code",
   "execution_count": 11,
   "id": "a93e0f10",
   "metadata": {},
   "outputs": [
    {
     "name": "stdout",
     "output_type": "stream",
     "text": [
      "{'params': [[0.3823011957637408, 0.27088120680522054], [-0.17025138802088258, -0.1821198990587167]], 'cost': -5.29}\n"
     ]
    }
   ],
   "source": [
    "print(job.result())"
   ]
  },
  {
   "cell_type": "code",
   "execution_count": 12,
   "id": "6a9aab28",
   "metadata": {},
   "outputs": [
    {
     "name": "stdout",
     "output_type": "stream",
     "text": [
      "{'timestamp': [1631768935.6386075, 1631768931.8938987, 1631768917.6805806, 1631768896.5502882, 1631768873.4655097, 1631768855.3263783], 'Cost': [-5.29, -5.342, -4.973, -4.114, -4.015, -3.92], 'iteration_number': [5.0, 4.0, 3.0, 2.0, 1.0, 0.0]}\n"
     ]
    }
   ],
   "source": [
    "# May need to wait a bit before metrics show up\n",
    "# If metrics aren't there, run a bit later\n",
    "time.sleep(120)\n",
    "print(job.metrics())"
   ]
  },
  {
   "cell_type": "code",
   "execution_count": 13,
   "id": "6548d655",
   "metadata": {},
   "outputs": [
    {
     "data": {
      "image/png": "[encoded data removed]",
      "text/plain": [
       "<Figure size 432x288 with 1 Axes>"
      ]
     },
     "metadata": {
      "needs_background": "light"
     },
     "output_type": "display_data"
    }
   ],
   "source": [
    "# A demonstration of plotting the metrics\n",
    "\n",
    "import matplotlib.pyplot as plt\n",
    "from matplotlib.ticker import MaxNLocator\n",
    "import pandas as pd\n",
    "\n",
    "df = pd.DataFrame(job.metrics())\n",
    "\n",
    "ax = plt.figure().gca()\n",
    "ax.xaxis.set_major_locator(MaxNLocator(integer=True))\n",
    "figure = df.plot(x='iteration_number', y='Cost', ax=ax)"
   ]
  },
  {
   "cell_type": "code",
   "execution_count": 14,
   "id": "232b6ed6",
   "metadata": {},
   "outputs": [],
   "source": [
    "# Run this cell to print logs from CloudWatch\n",
    "job.logs()"
   ]
  },
  {
   "cell_type": "code",
   "execution_count": 15,
   "id": "a87bed29",
   "metadata": {},
   "outputs": [],
   "source": [
    "# Downloads results to current directory\n",
    "job.download_result()"
   ]
  }
 ],
 "metadata": {
  "kernelspec": {
   "display_name": "conda_braket",
   "language": "python",
   "name": "conda_braket"
  },
  "language_info": {
   "codemirror_mode": {
    "name": "ipython",
    "version": 3
   },
   "file_extension": ".py",
   "mimetype": "text/x-python",
   "name": "python",
   "nbconvert_exporter": "python",
   "pygments_lexer": "ipython3",
   "version": "3.7.10"
  }
 },
 "nbformat": 4,
 "nbformat_minor": 5
}
