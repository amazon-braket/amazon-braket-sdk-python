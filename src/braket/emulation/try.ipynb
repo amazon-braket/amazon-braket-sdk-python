{
 "cells": [
  {
   "cell_type": "code",
   "execution_count": null,
   "id": "d685c4c2",
   "metadata": {},
   "outputs": [
    {
     "name": "stdout",
     "output_type": "stream",
     "text": [
      "env: AWS_PROFILE=maolinml\n"
     ]
    }
   ],
   "source": [
    "env AWS_PROFILE=maolinml"
   ]
  },
  {
   "cell_type": "code",
   "execution_count": 2,
   "id": "46b7eafa",
   "metadata": {},
   "outputs": [],
   "source": [
    "from braket.aws.aws_device import AwsDevice\n",
    "\n",
    "device = AwsDevice(arn=\"arn:aws:braket:eu-north-1::device/qpu/iqm/Garnet\")"
   ]
  },
  {
   "cell_type": "code",
   "execution_count": 3,
   "id": "111a122b",
   "metadata": {},
   "outputs": [],
   "source": [
    "from __future__ import annotations\n",
    "\n",
    "import json\n",
    "from typing import Any, Dict, Optional, Union\n",
    "\n",
    "from braket.device_schema.device_capabilities import DeviceCapabilities\n",
    "from braket.device_schema.gate_model_qpu_paradigm_properties_v1 import (\n",
    "    GateModelQpuParadigmProperties,\n",
    ")\n",
    "from braket.emulation.emulator import Emulator\n",
    "from networkx import DiGraph, complete_graph, from_edgelist\n",
    "\n",
    "from braket.passes.circuit_passes import (\n",
    "    QubitCountValidator,\n",
    "    GateValidator,\n",
    "    ConnectivityValidator,\n",
    "    GateConnectivityValidator,\n",
    ")"
   ]
  },
  {
   "cell_type": "code",
   "execution_count": null,
   "id": "cb68ddd5",
   "metadata": {},
   "outputs": [],
   "source": [
    "class LocalEmulator(Emulator):\n",
    "    \"\"\"\n",
    "    A local emulator that mimics the restrictions and noises of a QPU based on the provided device properties.\n",
    "    \"\"\"\n",
    "\n",
    "    @classmethod\n",
    "    def from_device_properties(\n",
    "        cls,\n",
    "        device_properties: DeviceCapabilities,\n",
    "        backend: str = \"braket_dm\",\n",
    "        **kwargs: Any,\n",
    "    ) -> LocalEmulator:\n",
    "        \"\"\"Create a LocalEmulator instance from device properties.\n",
    "\n",
    "        Args:\n",
    "            device_properties (DeviceCapabilities): The device properties to use for emulation.\n",
    "            backend (str): The backend to use for simulation. Defaults to \"braket_dm\".\n",
    "            **kwargs (Any): Additional keyword arguments to pass to the LocalEmulator constructor.\n",
    "\n",
    "        Returns:\n",
    "            LocalEmulator: A new LocalEmulator instance configured with the given properties.\n",
    "\n",
    "        Raises:\n",
    "            ValueError: If the backend is not the local density matrix simulator\n",
    "        \"\"\"\n",
    "\n",
    "        if backend != \"braket_dm\":\n",
    "            raise ValueError(f\"backend can only be `braket_dm`.\")\n",
    "\n",
    "        #\n",
    "\n",
    "        # Initialize with device properties and specified backend\n",
    "        emulator = cls(backend=backend, **kwargs)\n",
    "\n",
    "        # Add the passes for validation\n",
    "        emulator.add_pass(QubitCountValidator(device_properties.paradigm.qubitCount))\n",
    "        emulator.add_pass(GateValidator(native_gates=device_properties.paradigm.nativeGateSet))\n",
    "        # emulator.add_pass(\n",
    "        #     ConnectivityValidator(\n",
    "        #         connectivity_graph = device_properties.paradigm.connectivity.connectivityGraph,\n",
    "        #         fully_connected = device_properties.paradigm.connectivity.fullyConnected,\n",
    "        #         num_qubits = device_properties.paradigm.qubitCount,\n",
    "        #         qubit_labels = None,\n",
    "        #         directed = None,\n",
    "        #     )\n",
    "        # )\n",
    "\n",
    "        # emulator.add_pass(\n",
    "        #     GateConnectivityValidator(\n",
    "        #         gate_connectivity_graph,\n",
    "        #         directed = None,\n",
    "        #     )\n",
    "        # )\n",
    "\n",
    "        return emulator"
   ]
  },
  {
   "cell_type": "code",
   "execution_count": 39,
   "id": "17b499c1",
   "metadata": {},
   "outputs": [
    {
     "ename": "TypeError",
     "evalue": "unsupported operand type(s) for ^: 'bool' and 'NoneType'",
     "output_type": "error",
     "traceback": [
      "\u001b[0;31m---------------------------------------------------------------------------\u001b[0m",
      "\u001b[0;31mTypeError\u001b[0m                                 Traceback (most recent call last)",
      "Cell \u001b[0;32mIn[39], line 1\u001b[0m\n\u001b[0;32m----> 1\u001b[0m emulator \u001b[38;5;241m=\u001b[39m \u001b[43mLocalEmulator\u001b[49m\u001b[38;5;241;43m.\u001b[39;49m\u001b[43mfrom_device_properties\u001b[49m\u001b[43m(\u001b[49m\u001b[43mdevice\u001b[49m\u001b[38;5;241;43m.\u001b[39;49m\u001b[43mproperties\u001b[49m\u001b[43m)\u001b[49m\n",
      "Cell \u001b[0;32mIn[38], line 37\u001b[0m, in \u001b[0;36mLocalEmulator.from_device_properties\u001b[0;34m(cls, device_properties, backend, **kwargs)\u001b[0m\n\u001b[1;32m     34\u001b[0m emulator\u001b[38;5;241m.\u001b[39madd_pass(QubitCountValidator(device_properties\u001b[38;5;241m.\u001b[39mparadigm\u001b[38;5;241m.\u001b[39mqubitCount))\n\u001b[1;32m     35\u001b[0m emulator\u001b[38;5;241m.\u001b[39madd_pass(GateValidator(native_gates\u001b[38;5;241m=\u001b[39mdevice_properties\u001b[38;5;241m.\u001b[39mparadigm\u001b[38;5;241m.\u001b[39mnativeGateSet))\n\u001b[1;32m     36\u001b[0m emulator\u001b[38;5;241m.\u001b[39madd_pass(\n\u001b[0;32m---> 37\u001b[0m     \u001b[43mConnectivityValidator\u001b[49m\u001b[43m(\u001b[49m\n\u001b[1;32m     38\u001b[0m \u001b[43m        \u001b[49m\u001b[43mconnectivity_graph\u001b[49m\u001b[43m \u001b[49m\u001b[38;5;241;43m=\u001b[39;49m\u001b[43m \u001b[49m\u001b[38;5;28;43;01mNone\u001b[39;49;00m\u001b[43m,\u001b[49m\n\u001b[1;32m     39\u001b[0m \u001b[43m        \u001b[49m\u001b[43mfully_connected\u001b[49m\u001b[43m \u001b[49m\u001b[38;5;241;43m=\u001b[39;49m\u001b[43m \u001b[49m\u001b[38;5;28;43;01mNone\u001b[39;49;00m\u001b[43m,\u001b[49m\n\u001b[1;32m     40\u001b[0m \u001b[43m        \u001b[49m\u001b[43mnum_qubits\u001b[49m\u001b[43m \u001b[49m\u001b[38;5;241;43m=\u001b[39;49m\u001b[43m \u001b[49m\u001b[38;5;28;43;01mNone\u001b[39;49;00m\u001b[43m,\u001b[49m\n\u001b[1;32m     41\u001b[0m \u001b[43m        \u001b[49m\u001b[43mqubit_labels\u001b[49m\u001b[43m \u001b[49m\u001b[38;5;241;43m=\u001b[39;49m\u001b[43m \u001b[49m\u001b[38;5;28;43;01mNone\u001b[39;49;00m\u001b[43m,\u001b[49m\n\u001b[1;32m     42\u001b[0m \u001b[43m        \u001b[49m\u001b[43mdirected\u001b[49m\u001b[43m \u001b[49m\u001b[38;5;241;43m=\u001b[39;49m\u001b[43m \u001b[49m\u001b[38;5;28;43;01mNone\u001b[39;49;00m\u001b[43m,\u001b[49m\n\u001b[1;32m     43\u001b[0m \u001b[43m    \u001b[49m\u001b[43m)\u001b[49m\n\u001b[1;32m     44\u001b[0m )\n\u001b[1;32m     46\u001b[0m \u001b[38;5;66;03m# emulator.add_pass(\u001b[39;00m\n\u001b[1;32m     47\u001b[0m \u001b[38;5;66;03m#     GateConnectivityValidator(\u001b[39;00m\n\u001b[1;32m     48\u001b[0m \u001b[38;5;66;03m#         gate_connectivity_graph,\u001b[39;00m\n\u001b[1;32m     49\u001b[0m \u001b[38;5;66;03m#         directed = None,\u001b[39;00m\n\u001b[1;32m     50\u001b[0m \u001b[38;5;66;03m#     )\u001b[39;00m\n\u001b[1;32m     51\u001b[0m \u001b[38;5;66;03m# )\u001b[39;00m\n\u001b[1;32m     54\u001b[0m \u001b[38;5;28;01mreturn\u001b[39;00m emulator\n",
      "File \u001b[0;32m/opt/homebrew/lib/python3.11/site-packages/braket/passes/circuit_passes/connectivity_validator.py:66\u001b[0m, in \u001b[0;36mConnectivityValidator.__init__\u001b[0;34m(self, connectivity_graph, fully_connected, num_qubits, qubit_labels, directed)\u001b[0m\n\u001b[1;32m     28\u001b[0m \u001b[38;5;28;01mdef\u001b[39;00m \u001b[38;5;21m__init__\u001b[39m(\n\u001b[1;32m     29\u001b[0m     \u001b[38;5;28mself\u001b[39m,\n\u001b[1;32m     30\u001b[0m     connectivity_graph: Optional[Union[Dict[\u001b[38;5;28mint\u001b[39m, Iterable[\u001b[38;5;28mint\u001b[39m]], DiGraph]] \u001b[38;5;241m=\u001b[39m \u001b[38;5;28;01mNone\u001b[39;00m,\n\u001b[0;32m   (...)\u001b[0m\n\u001b[1;32m     34\u001b[0m     directed: \u001b[38;5;28mbool\u001b[39m \u001b[38;5;241m=\u001b[39m \u001b[38;5;28;01mTrue\u001b[39;00m,\n\u001b[1;32m     35\u001b[0m ):\n\u001b[1;32m     36\u001b[0m \u001b[38;5;250m    \u001b[39m\u001b[38;5;124;03m\"\"\"\u001b[39;00m\n\u001b[1;32m     37\u001b[0m \u001b[38;5;124;03m    A ConnectivityValidator instance takes in a qubit connectivity graph and validates that\u001b[39;00m\n\u001b[1;32m     38\u001b[0m \u001b[38;5;124;03m    a circuit that uses verbatim circuits makes valid hardware qubit references in single\u001b[39;00m\n\u001b[0;32m   (...)\u001b[0m\n\u001b[1;32m     63\u001b[0m \u001b[38;5;124;03m        or a valid DiGraph or dict representation of a connectivity graph is not provided.\u001b[39;00m\n\u001b[1;32m     64\u001b[0m \u001b[38;5;124;03m    \"\"\"\u001b[39;00m\n\u001b[0;32m---> 66\u001b[0m     \u001b[38;5;28;01mif\u001b[39;00m \u001b[38;5;129;01mnot\u001b[39;00m (\u001b[43m(\u001b[49m\u001b[43mconnectivity_graph\u001b[49m\u001b[43m \u001b[49m\u001b[38;5;129;43;01mis\u001b[39;49;00m\u001b[43m \u001b[49m\u001b[38;5;129;43;01mnot\u001b[39;49;00m\u001b[43m \u001b[49m\u001b[38;5;28;43;01mNone\u001b[39;49;00m\u001b[43m)\u001b[49m\u001b[43m \u001b[49m\u001b[38;5;241;43m^\u001b[39;49m\u001b[43m \u001b[49m\u001b[43mfully_connected\u001b[49m):\n\u001b[1;32m     67\u001b[0m         \u001b[38;5;28;01mraise\u001b[39;00m \u001b[38;5;167;01mValueError\u001b[39;00m(\n\u001b[1;32m     68\u001b[0m             \u001b[38;5;124m\"\u001b[39m\u001b[38;5;124mEither the connectivity_graph must be provided OR fully_connected must be True\u001b[39m\u001b[38;5;130;01m\\\u001b[39;00m\n\u001b[1;32m     69\u001b[0m \u001b[38;5;124m                (not both).\u001b[39m\u001b[38;5;124m\"\u001b[39m\n\u001b[1;32m     70\u001b[0m         )\n\u001b[1;32m     72\u001b[0m     \u001b[38;5;28;01mif\u001b[39;00m fully_connected:\n",
      "\u001b[0;31mTypeError\u001b[0m: unsupported operand type(s) for ^: 'bool' and 'NoneType'"
     ]
    }
   ],
   "source": [
    "emulator = LocalEmulator.from_device_properties(device.properties)"
   ]
  },
  {
   "cell_type": "code",
   "execution_count": 35,
   "id": "1e5dc553",
   "metadata": {},
   "outputs": [
    {
     "data": {
      "text/plain": [
       "{'_supported_gates': frozenset(),\n",
       " '_native_gates': frozenset({braket.circuits.gates.CZ,\n",
       "            braket.circuits.gates.PRx})}"
      ]
     },
     "execution_count": 35,
     "metadata": {},
     "output_type": "execute_result"
    }
   ],
   "source": [
    "emulator._emulator_passes[1].__dict__"
   ]
  },
  {
   "cell_type": "code",
   "execution_count": null,
   "id": "5c8a5c3b",
   "metadata": {},
   "outputs": [],
   "source": []
  }
 ],
 "metadata": {
  "kernelspec": {
   "display_name": "Python 3",
   "language": "python",
   "name": "python3"
  },
  "language_info": {
   "codemirror_mode": {
    "name": "ipython",
    "version": 3
   },
   "file_extension": ".py",
   "mimetype": "text/x-python",
   "name": "python",
   "nbconvert_exporter": "python",
   "pygments_lexer": "ipython3",
   "version": "3.11.11"
  }
 },
 "nbformat": 4,
 "nbformat_minor": 5
}
